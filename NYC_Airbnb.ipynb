{
 "cells": [
  {
   "cell_type": "markdown",
   "metadata": {},
   "source": [
    "# New York City Airbnb\n",
    "\n",
    "Since 2008, guests and hosts have used Airbnb to expand on traveling possibilities and present a more unique, personalized way of experiencing the world. Today, Airbnb became one of a kind service that is used and recognized by the whole world. Data analysis on millions of listings provided through Airbnb is a crucial factor for the company. These millions of listings generate a lot of data - data that can be analyzed and used for security, business decisions, understanding of customers' and providers' (hosts) behavior and performance on the platform, guiding marketing initiatives, implementation of innovative additional services and much more.\n",
    "\n",
    "Dataset from Kaggle: https://www.kaggle.com/dgomonov/new-york-city-airbnb-open-data"
   ]
  },
  {
   "cell_type": "code",
   "execution_count": 1,
   "metadata": {},
   "outputs": [],
   "source": [
    "import pandas as pd\n",
    "import matplotlib.pyplot as plt\n",
    "import seaborn as sns\n",
    "import warnings\n",
    "warnings.filterwarnings(\"ignore\")\n",
    "%matplotlib inline"
   ]
  },
  {
   "cell_type": "code",
   "execution_count": 2,
   "metadata": {},
   "outputs": [],
   "source": [
    "df= pd.read_csv('../new-york-city-airbnb-open-data/AB_NYC_2019.csv')"
   ]
  },
  {
   "cell_type": "markdown",
   "metadata": {},
   "source": [
    "This dataset contains around 49k rows and 16 columns."
   ]
  },
  {
   "cell_type": "code",
   "execution_count": 3,
   "metadata": {},
   "outputs": [
    {
     "data": {
      "text/plain": [
       "(48895, 16)"
      ]
     },
     "execution_count": 3,
     "metadata": {},
     "output_type": "execute_result"
    }
   ],
   "source": [
    "df.shape"
   ]
  },
  {
   "cell_type": "code",
   "execution_count": 4,
   "metadata": {},
   "outputs": [
    {
     "name": "stdout",
     "output_type": "stream",
     "text": [
      "<class 'pandas.core.frame.DataFrame'>\n",
      "RangeIndex: 48895 entries, 0 to 48894\n",
      "Data columns (total 16 columns):\n",
      "id                                48895 non-null int64\n",
      "name                              48879 non-null object\n",
      "host_id                           48895 non-null int64\n",
      "host_name                         48874 non-null object\n",
      "neighbourhood_group               48895 non-null object\n",
      "neighbourhood                     48895 non-null object\n",
      "latitude                          48895 non-null float64\n",
      "longitude                         48895 non-null float64\n",
      "room_type                         48895 non-null object\n",
      "price                             48895 non-null int64\n",
      "minimum_nights                    48895 non-null int64\n",
      "number_of_reviews                 48895 non-null int64\n",
      "last_review                       38843 non-null object\n",
      "reviews_per_month                 38843 non-null float64\n",
      "calculated_host_listings_count    48895 non-null int64\n",
      "availability_365                  48895 non-null int64\n",
      "dtypes: float64(3), int64(7), object(6)\n",
      "memory usage: 6.0+ MB\n"
     ]
    }
   ],
   "source": [
    "df.info()"
   ]
  },
  {
   "cell_type": "code",
   "execution_count": 5,
   "metadata": {},
   "outputs": [
    {
     "data": {
      "text/html": [
       "<div>\n",
       "<style scoped>\n",
       "    .dataframe tbody tr th:only-of-type {\n",
       "        vertical-align: middle;\n",
       "    }\n",
       "\n",
       "    .dataframe tbody tr th {\n",
       "        vertical-align: top;\n",
       "    }\n",
       "\n",
       "    .dataframe thead th {\n",
       "        text-align: right;\n",
       "    }\n",
       "</style>\n",
       "<table border=\"1\" class=\"dataframe\">\n",
       "  <thead>\n",
       "    <tr style=\"text-align: right;\">\n",
       "      <th></th>\n",
       "      <th>id</th>\n",
       "      <th>name</th>\n",
       "      <th>host_id</th>\n",
       "      <th>host_name</th>\n",
       "      <th>neighbourhood_group</th>\n",
       "      <th>neighbourhood</th>\n",
       "      <th>latitude</th>\n",
       "      <th>longitude</th>\n",
       "      <th>room_type</th>\n",
       "      <th>price</th>\n",
       "      <th>minimum_nights</th>\n",
       "      <th>number_of_reviews</th>\n",
       "      <th>last_review</th>\n",
       "      <th>reviews_per_month</th>\n",
       "      <th>calculated_host_listings_count</th>\n",
       "      <th>availability_365</th>\n",
       "    </tr>\n",
       "  </thead>\n",
       "  <tbody>\n",
       "    <tr>\n",
       "      <th>0</th>\n",
       "      <td>2539</td>\n",
       "      <td>Clean &amp; quiet apt home by the park</td>\n",
       "      <td>2787</td>\n",
       "      <td>John</td>\n",
       "      <td>Brooklyn</td>\n",
       "      <td>Kensington</td>\n",
       "      <td>40.64749</td>\n",
       "      <td>-73.97237</td>\n",
       "      <td>Private room</td>\n",
       "      <td>149</td>\n",
       "      <td>1</td>\n",
       "      <td>9</td>\n",
       "      <td>2018-10-19</td>\n",
       "      <td>0.21</td>\n",
       "      <td>6</td>\n",
       "      <td>365</td>\n",
       "    </tr>\n",
       "    <tr>\n",
       "      <th>1</th>\n",
       "      <td>2595</td>\n",
       "      <td>Skylit Midtown Castle</td>\n",
       "      <td>2845</td>\n",
       "      <td>Jennifer</td>\n",
       "      <td>Manhattan</td>\n",
       "      <td>Midtown</td>\n",
       "      <td>40.75362</td>\n",
       "      <td>-73.98377</td>\n",
       "      <td>Entire home/apt</td>\n",
       "      <td>225</td>\n",
       "      <td>1</td>\n",
       "      <td>45</td>\n",
       "      <td>2019-05-21</td>\n",
       "      <td>0.38</td>\n",
       "      <td>2</td>\n",
       "      <td>355</td>\n",
       "    </tr>\n",
       "    <tr>\n",
       "      <th>2</th>\n",
       "      <td>3647</td>\n",
       "      <td>THE VILLAGE OF HARLEM....NEW YORK !</td>\n",
       "      <td>4632</td>\n",
       "      <td>Elisabeth</td>\n",
       "      <td>Manhattan</td>\n",
       "      <td>Harlem</td>\n",
       "      <td>40.80902</td>\n",
       "      <td>-73.94190</td>\n",
       "      <td>Private room</td>\n",
       "      <td>150</td>\n",
       "      <td>3</td>\n",
       "      <td>0</td>\n",
       "      <td>NaN</td>\n",
       "      <td>NaN</td>\n",
       "      <td>1</td>\n",
       "      <td>365</td>\n",
       "    </tr>\n",
       "    <tr>\n",
       "      <th>3</th>\n",
       "      <td>3831</td>\n",
       "      <td>Cozy Entire Floor of Brownstone</td>\n",
       "      <td>4869</td>\n",
       "      <td>LisaRoxanne</td>\n",
       "      <td>Brooklyn</td>\n",
       "      <td>Clinton Hill</td>\n",
       "      <td>40.68514</td>\n",
       "      <td>-73.95976</td>\n",
       "      <td>Entire home/apt</td>\n",
       "      <td>89</td>\n",
       "      <td>1</td>\n",
       "      <td>270</td>\n",
       "      <td>2019-07-05</td>\n",
       "      <td>4.64</td>\n",
       "      <td>1</td>\n",
       "      <td>194</td>\n",
       "    </tr>\n",
       "    <tr>\n",
       "      <th>4</th>\n",
       "      <td>5022</td>\n",
       "      <td>Entire Apt: Spacious Studio/Loft by central park</td>\n",
       "      <td>7192</td>\n",
       "      <td>Laura</td>\n",
       "      <td>Manhattan</td>\n",
       "      <td>East Harlem</td>\n",
       "      <td>40.79851</td>\n",
       "      <td>-73.94399</td>\n",
       "      <td>Entire home/apt</td>\n",
       "      <td>80</td>\n",
       "      <td>10</td>\n",
       "      <td>9</td>\n",
       "      <td>2018-11-19</td>\n",
       "      <td>0.10</td>\n",
       "      <td>1</td>\n",
       "      <td>0</td>\n",
       "    </tr>\n",
       "  </tbody>\n",
       "</table>\n",
       "</div>"
      ],
      "text/plain": [
       "     id                                              name  host_id  \\\n",
       "0  2539                Clean & quiet apt home by the park     2787   \n",
       "1  2595                             Skylit Midtown Castle     2845   \n",
       "2  3647               THE VILLAGE OF HARLEM....NEW YORK !     4632   \n",
       "3  3831                   Cozy Entire Floor of Brownstone     4869   \n",
       "4  5022  Entire Apt: Spacious Studio/Loft by central park     7192   \n",
       "\n",
       "     host_name neighbourhood_group neighbourhood  latitude  longitude  \\\n",
       "0         John            Brooklyn    Kensington  40.64749  -73.97237   \n",
       "1     Jennifer           Manhattan       Midtown  40.75362  -73.98377   \n",
       "2    Elisabeth           Manhattan        Harlem  40.80902  -73.94190   \n",
       "3  LisaRoxanne            Brooklyn  Clinton Hill  40.68514  -73.95976   \n",
       "4        Laura           Manhattan   East Harlem  40.79851  -73.94399   \n",
       "\n",
       "         room_type  price  minimum_nights  number_of_reviews last_review  \\\n",
       "0     Private room    149               1                  9  2018-10-19   \n",
       "1  Entire home/apt    225               1                 45  2019-05-21   \n",
       "2     Private room    150               3                  0         NaN   \n",
       "3  Entire home/apt     89               1                270  2019-07-05   \n",
       "4  Entire home/apt     80              10                  9  2018-11-19   \n",
       "\n",
       "   reviews_per_month  calculated_host_listings_count  availability_365  \n",
       "0               0.21                               6               365  \n",
       "1               0.38                               2               355  \n",
       "2                NaN                               1               365  \n",
       "3               4.64                               1               194  \n",
       "4               0.10                               1                 0  "
      ]
     },
     "execution_count": 5,
     "metadata": {},
     "output_type": "execute_result"
    }
   ],
   "source": [
    "df.head()"
   ]
  },
  {
   "cell_type": "code",
   "execution_count": 6,
   "metadata": {},
   "outputs": [
    {
     "data": {
      "text/html": [
       "<div>\n",
       "<style scoped>\n",
       "    .dataframe tbody tr th:only-of-type {\n",
       "        vertical-align: middle;\n",
       "    }\n",
       "\n",
       "    .dataframe tbody tr th {\n",
       "        vertical-align: top;\n",
       "    }\n",
       "\n",
       "    .dataframe thead th {\n",
       "        text-align: right;\n",
       "    }\n",
       "</style>\n",
       "<table border=\"1\" class=\"dataframe\">\n",
       "  <thead>\n",
       "    <tr style=\"text-align: right;\">\n",
       "      <th></th>\n",
       "      <th>id</th>\n",
       "      <th>name</th>\n",
       "      <th>host_id</th>\n",
       "      <th>host_name</th>\n",
       "      <th>neighbourhood_group</th>\n",
       "      <th>neighbourhood</th>\n",
       "      <th>latitude</th>\n",
       "      <th>longitude</th>\n",
       "      <th>room_type</th>\n",
       "      <th>price</th>\n",
       "      <th>minimum_nights</th>\n",
       "      <th>number_of_reviews</th>\n",
       "      <th>last_review</th>\n",
       "      <th>reviews_per_month</th>\n",
       "      <th>calculated_host_listings_count</th>\n",
       "      <th>availability_365</th>\n",
       "    </tr>\n",
       "  </thead>\n",
       "  <tbody>\n",
       "    <tr>\n",
       "      <th>count</th>\n",
       "      <td>4.889500e+04</td>\n",
       "      <td>48879</td>\n",
       "      <td>4.889500e+04</td>\n",
       "      <td>48874</td>\n",
       "      <td>48895</td>\n",
       "      <td>48895</td>\n",
       "      <td>48895.000000</td>\n",
       "      <td>48895.000000</td>\n",
       "      <td>48895</td>\n",
       "      <td>48895.000000</td>\n",
       "      <td>48895.000000</td>\n",
       "      <td>48895.000000</td>\n",
       "      <td>38843</td>\n",
       "      <td>38843.000000</td>\n",
       "      <td>48895.000000</td>\n",
       "      <td>48895.000000</td>\n",
       "    </tr>\n",
       "    <tr>\n",
       "      <th>unique</th>\n",
       "      <td>NaN</td>\n",
       "      <td>47905</td>\n",
       "      <td>NaN</td>\n",
       "      <td>11452</td>\n",
       "      <td>5</td>\n",
       "      <td>221</td>\n",
       "      <td>NaN</td>\n",
       "      <td>NaN</td>\n",
       "      <td>3</td>\n",
       "      <td>NaN</td>\n",
       "      <td>NaN</td>\n",
       "      <td>NaN</td>\n",
       "      <td>1764</td>\n",
       "      <td>NaN</td>\n",
       "      <td>NaN</td>\n",
       "      <td>NaN</td>\n",
       "    </tr>\n",
       "    <tr>\n",
       "      <th>top</th>\n",
       "      <td>NaN</td>\n",
       "      <td>Hillside Hotel</td>\n",
       "      <td>NaN</td>\n",
       "      <td>Michael</td>\n",
       "      <td>Manhattan</td>\n",
       "      <td>Williamsburg</td>\n",
       "      <td>NaN</td>\n",
       "      <td>NaN</td>\n",
       "      <td>Entire home/apt</td>\n",
       "      <td>NaN</td>\n",
       "      <td>NaN</td>\n",
       "      <td>NaN</td>\n",
       "      <td>2019-06-23</td>\n",
       "      <td>NaN</td>\n",
       "      <td>NaN</td>\n",
       "      <td>NaN</td>\n",
       "    </tr>\n",
       "    <tr>\n",
       "      <th>freq</th>\n",
       "      <td>NaN</td>\n",
       "      <td>18</td>\n",
       "      <td>NaN</td>\n",
       "      <td>417</td>\n",
       "      <td>21661</td>\n",
       "      <td>3920</td>\n",
       "      <td>NaN</td>\n",
       "      <td>NaN</td>\n",
       "      <td>25409</td>\n",
       "      <td>NaN</td>\n",
       "      <td>NaN</td>\n",
       "      <td>NaN</td>\n",
       "      <td>1413</td>\n",
       "      <td>NaN</td>\n",
       "      <td>NaN</td>\n",
       "      <td>NaN</td>\n",
       "    </tr>\n",
       "    <tr>\n",
       "      <th>mean</th>\n",
       "      <td>1.901714e+07</td>\n",
       "      <td>NaN</td>\n",
       "      <td>6.762001e+07</td>\n",
       "      <td>NaN</td>\n",
       "      <td>NaN</td>\n",
       "      <td>NaN</td>\n",
       "      <td>40.728949</td>\n",
       "      <td>-73.952170</td>\n",
       "      <td>NaN</td>\n",
       "      <td>152.720687</td>\n",
       "      <td>7.029962</td>\n",
       "      <td>23.274466</td>\n",
       "      <td>NaN</td>\n",
       "      <td>1.373221</td>\n",
       "      <td>7.143982</td>\n",
       "      <td>112.781327</td>\n",
       "    </tr>\n",
       "    <tr>\n",
       "      <th>std</th>\n",
       "      <td>1.098311e+07</td>\n",
       "      <td>NaN</td>\n",
       "      <td>7.861097e+07</td>\n",
       "      <td>NaN</td>\n",
       "      <td>NaN</td>\n",
       "      <td>NaN</td>\n",
       "      <td>0.054530</td>\n",
       "      <td>0.046157</td>\n",
       "      <td>NaN</td>\n",
       "      <td>240.154170</td>\n",
       "      <td>20.510550</td>\n",
       "      <td>44.550582</td>\n",
       "      <td>NaN</td>\n",
       "      <td>1.680442</td>\n",
       "      <td>32.952519</td>\n",
       "      <td>131.622289</td>\n",
       "    </tr>\n",
       "    <tr>\n",
       "      <th>min</th>\n",
       "      <td>2.539000e+03</td>\n",
       "      <td>NaN</td>\n",
       "      <td>2.438000e+03</td>\n",
       "      <td>NaN</td>\n",
       "      <td>NaN</td>\n",
       "      <td>NaN</td>\n",
       "      <td>40.499790</td>\n",
       "      <td>-74.244420</td>\n",
       "      <td>NaN</td>\n",
       "      <td>0.000000</td>\n",
       "      <td>1.000000</td>\n",
       "      <td>0.000000</td>\n",
       "      <td>NaN</td>\n",
       "      <td>0.010000</td>\n",
       "      <td>1.000000</td>\n",
       "      <td>0.000000</td>\n",
       "    </tr>\n",
       "    <tr>\n",
       "      <th>25%</th>\n",
       "      <td>9.471945e+06</td>\n",
       "      <td>NaN</td>\n",
       "      <td>7.822033e+06</td>\n",
       "      <td>NaN</td>\n",
       "      <td>NaN</td>\n",
       "      <td>NaN</td>\n",
       "      <td>40.690100</td>\n",
       "      <td>-73.983070</td>\n",
       "      <td>NaN</td>\n",
       "      <td>69.000000</td>\n",
       "      <td>1.000000</td>\n",
       "      <td>1.000000</td>\n",
       "      <td>NaN</td>\n",
       "      <td>0.190000</td>\n",
       "      <td>1.000000</td>\n",
       "      <td>0.000000</td>\n",
       "    </tr>\n",
       "    <tr>\n",
       "      <th>50%</th>\n",
       "      <td>1.967728e+07</td>\n",
       "      <td>NaN</td>\n",
       "      <td>3.079382e+07</td>\n",
       "      <td>NaN</td>\n",
       "      <td>NaN</td>\n",
       "      <td>NaN</td>\n",
       "      <td>40.723070</td>\n",
       "      <td>-73.955680</td>\n",
       "      <td>NaN</td>\n",
       "      <td>106.000000</td>\n",
       "      <td>3.000000</td>\n",
       "      <td>5.000000</td>\n",
       "      <td>NaN</td>\n",
       "      <td>0.720000</td>\n",
       "      <td>1.000000</td>\n",
       "      <td>45.000000</td>\n",
       "    </tr>\n",
       "    <tr>\n",
       "      <th>75%</th>\n",
       "      <td>2.915218e+07</td>\n",
       "      <td>NaN</td>\n",
       "      <td>1.074344e+08</td>\n",
       "      <td>NaN</td>\n",
       "      <td>NaN</td>\n",
       "      <td>NaN</td>\n",
       "      <td>40.763115</td>\n",
       "      <td>-73.936275</td>\n",
       "      <td>NaN</td>\n",
       "      <td>175.000000</td>\n",
       "      <td>5.000000</td>\n",
       "      <td>24.000000</td>\n",
       "      <td>NaN</td>\n",
       "      <td>2.020000</td>\n",
       "      <td>2.000000</td>\n",
       "      <td>227.000000</td>\n",
       "    </tr>\n",
       "    <tr>\n",
       "      <th>max</th>\n",
       "      <td>3.648724e+07</td>\n",
       "      <td>NaN</td>\n",
       "      <td>2.743213e+08</td>\n",
       "      <td>NaN</td>\n",
       "      <td>NaN</td>\n",
       "      <td>NaN</td>\n",
       "      <td>40.913060</td>\n",
       "      <td>-73.712990</td>\n",
       "      <td>NaN</td>\n",
       "      <td>10000.000000</td>\n",
       "      <td>1250.000000</td>\n",
       "      <td>629.000000</td>\n",
       "      <td>NaN</td>\n",
       "      <td>58.500000</td>\n",
       "      <td>327.000000</td>\n",
       "      <td>365.000000</td>\n",
       "    </tr>\n",
       "  </tbody>\n",
       "</table>\n",
       "</div>"
      ],
      "text/plain": [
       "                  id            name       host_id host_name  \\\n",
       "count   4.889500e+04           48879  4.889500e+04     48874   \n",
       "unique           NaN           47905           NaN     11452   \n",
       "top              NaN  Hillside Hotel           NaN   Michael   \n",
       "freq             NaN              18           NaN       417   \n",
       "mean    1.901714e+07             NaN  6.762001e+07       NaN   \n",
       "std     1.098311e+07             NaN  7.861097e+07       NaN   \n",
       "min     2.539000e+03             NaN  2.438000e+03       NaN   \n",
       "25%     9.471945e+06             NaN  7.822033e+06       NaN   \n",
       "50%     1.967728e+07             NaN  3.079382e+07       NaN   \n",
       "75%     2.915218e+07             NaN  1.074344e+08       NaN   \n",
       "max     3.648724e+07             NaN  2.743213e+08       NaN   \n",
       "\n",
       "       neighbourhood_group neighbourhood      latitude     longitude  \\\n",
       "count                48895         48895  48895.000000  48895.000000   \n",
       "unique                   5           221           NaN           NaN   \n",
       "top              Manhattan  Williamsburg           NaN           NaN   \n",
       "freq                 21661          3920           NaN           NaN   \n",
       "mean                   NaN           NaN     40.728949    -73.952170   \n",
       "std                    NaN           NaN      0.054530      0.046157   \n",
       "min                    NaN           NaN     40.499790    -74.244420   \n",
       "25%                    NaN           NaN     40.690100    -73.983070   \n",
       "50%                    NaN           NaN     40.723070    -73.955680   \n",
       "75%                    NaN           NaN     40.763115    -73.936275   \n",
       "max                    NaN           NaN     40.913060    -73.712990   \n",
       "\n",
       "              room_type         price  minimum_nights  number_of_reviews  \\\n",
       "count             48895  48895.000000    48895.000000       48895.000000   \n",
       "unique                3           NaN             NaN                NaN   \n",
       "top     Entire home/apt           NaN             NaN                NaN   \n",
       "freq              25409           NaN             NaN                NaN   \n",
       "mean                NaN    152.720687        7.029962          23.274466   \n",
       "std                 NaN    240.154170       20.510550          44.550582   \n",
       "min                 NaN      0.000000        1.000000           0.000000   \n",
       "25%                 NaN     69.000000        1.000000           1.000000   \n",
       "50%                 NaN    106.000000        3.000000           5.000000   \n",
       "75%                 NaN    175.000000        5.000000          24.000000   \n",
       "max                 NaN  10000.000000     1250.000000         629.000000   \n",
       "\n",
       "       last_review  reviews_per_month  calculated_host_listings_count  \\\n",
       "count        38843       38843.000000                    48895.000000   \n",
       "unique        1764                NaN                             NaN   \n",
       "top     2019-06-23                NaN                             NaN   \n",
       "freq          1413                NaN                             NaN   \n",
       "mean           NaN           1.373221                        7.143982   \n",
       "std            NaN           1.680442                       32.952519   \n",
       "min            NaN           0.010000                        1.000000   \n",
       "25%            NaN           0.190000                        1.000000   \n",
       "50%            NaN           0.720000                        1.000000   \n",
       "75%            NaN           2.020000                        2.000000   \n",
       "max            NaN          58.500000                      327.000000   \n",
       "\n",
       "        availability_365  \n",
       "count       48895.000000  \n",
       "unique               NaN  \n",
       "top                  NaN  \n",
       "freq                 NaN  \n",
       "mean          112.781327  \n",
       "std           131.622289  \n",
       "min             0.000000  \n",
       "25%             0.000000  \n",
       "50%            45.000000  \n",
       "75%           227.000000  \n",
       "max           365.000000  "
      ]
     },
     "execution_count": 6,
     "metadata": {},
     "output_type": "execute_result"
    }
   ],
   "source": [
    "df.describe(include='all')"
   ]
  },
  {
   "cell_type": "markdown",
   "metadata": {},
   "source": [
    "The standard deviation of price is $240; Mean is 153 and median is 106."
   ]
  },
  {
   "cell_type": "markdown",
   "metadata": {},
   "source": [
    "The price range is large! From 0 to 10000? Are they outliers?"
   ]
  },
  {
   "cell_type": "markdown",
   "metadata": {},
   "source": [
    "# Missing Value"
   ]
  },
  {
   "cell_type": "code",
   "execution_count": 7,
   "metadata": {},
   "outputs": [
    {
     "data": {
      "text/plain": [
       "id                                100.000000\n",
       "name                               99.967277\n",
       "host_id                           100.000000\n",
       "host_name                          99.957051\n",
       "neighbourhood_group               100.000000\n",
       "neighbourhood                     100.000000\n",
       "latitude                          100.000000\n",
       "longitude                         100.000000\n",
       "room_type                         100.000000\n",
       "price                             100.000000\n",
       "minimum_nights                    100.000000\n",
       "number_of_reviews                 100.000000\n",
       "last_review                        79.441661\n",
       "reviews_per_month                  79.441661\n",
       "calculated_host_listings_count    100.000000\n",
       "availability_365                  100.000000\n",
       "dtype: float64"
      ]
     },
     "execution_count": 7,
     "metadata": {},
     "output_type": "execute_result"
    }
   ],
   "source": [
    "df.count()/len(df) * 100"
   ]
  },
  {
   "cell_type": "code",
   "execution_count": 8,
   "metadata": {},
   "outputs": [
    {
     "data": {
      "text/plain": [
       "id                                48895\n",
       "name                              47905\n",
       "host_id                           37457\n",
       "host_name                         11452\n",
       "neighbourhood_group                   5\n",
       "neighbourhood                       221\n",
       "latitude                          19048\n",
       "longitude                         14718\n",
       "room_type                             3\n",
       "price                               674\n",
       "minimum_nights                      109\n",
       "number_of_reviews                   394\n",
       "last_review                        1764\n",
       "reviews_per_month                   937\n",
       "calculated_host_listings_count       47\n",
       "availability_365                    366\n",
       "dtype: int64"
      ]
     },
     "execution_count": 8,
     "metadata": {},
     "output_type": "execute_result"
    }
   ],
   "source": [
    "df.nunique()"
   ]
  },
  {
   "cell_type": "code",
   "execution_count": 9,
   "metadata": {},
   "outputs": [],
   "source": [
    "# rows with last_review being nulls have null reviews_per_month as well\n",
    "# replacing all NaN values in 'reviews_per_month' with 0\n",
    "df.fillna({'reviews_per_month':0}, inplace=True)"
   ]
  },
  {
   "cell_type": "markdown",
   "metadata": {},
   "source": [
    "# Exploration and Visualization"
   ]
  },
  {
   "cell_type": "markdown",
   "metadata": {},
   "source": [
    "## \"Outliers\""
   ]
  },
  {
   "cell_type": "markdown",
   "metadata": {},
   "source": [
    "### Name is null"
   ]
  },
  {
   "cell_type": "code",
   "execution_count": 10,
   "metadata": {},
   "outputs": [
    {
     "data": {
      "text/html": [
       "<div>\n",
       "<style scoped>\n",
       "    .dataframe tbody tr th:only-of-type {\n",
       "        vertical-align: middle;\n",
       "    }\n",
       "\n",
       "    .dataframe tbody tr th {\n",
       "        vertical-align: top;\n",
       "    }\n",
       "\n",
       "    .dataframe thead th {\n",
       "        text-align: right;\n",
       "    }\n",
       "</style>\n",
       "<table border=\"1\" class=\"dataframe\">\n",
       "  <thead>\n",
       "    <tr style=\"text-align: right;\">\n",
       "      <th></th>\n",
       "      <th>id</th>\n",
       "      <th>host_id</th>\n",
       "      <th>latitude</th>\n",
       "      <th>longitude</th>\n",
       "      <th>price</th>\n",
       "      <th>minimum_nights</th>\n",
       "      <th>number_of_reviews</th>\n",
       "      <th>reviews_per_month</th>\n",
       "      <th>calculated_host_listings_count</th>\n",
       "      <th>availability_365</th>\n",
       "    </tr>\n",
       "  </thead>\n",
       "  <tbody>\n",
       "    <tr>\n",
       "      <th>count</th>\n",
       "      <td>1.600000e+01</td>\n",
       "      <td>1.600000e+01</td>\n",
       "      <td>16.000000</td>\n",
       "      <td>16.000000</td>\n",
       "      <td>16.000000</td>\n",
       "      <td>16.000000</td>\n",
       "      <td>16.000000</td>\n",
       "      <td>16.000000</td>\n",
       "      <td>16.000000</td>\n",
       "      <td>16.000000</td>\n",
       "    </tr>\n",
       "    <tr>\n",
       "      <th>mean</th>\n",
       "      <td>8.410815e+06</td>\n",
       "      <td>3.672124e+07</td>\n",
       "      <td>40.742235</td>\n",
       "      <td>-73.956065</td>\n",
       "      <td>147.625000</td>\n",
       "      <td>64.875000</td>\n",
       "      <td>2.687500</td>\n",
       "      <td>0.057500</td>\n",
       "      <td>1.312500</td>\n",
       "      <td>89.375000</td>\n",
       "    </tr>\n",
       "    <tr>\n",
       "      <th>std</th>\n",
       "      <td>5.385275e+06</td>\n",
       "      <td>2.423883e+07</td>\n",
       "      <td>0.057460</td>\n",
       "      <td>0.035822</td>\n",
       "      <td>102.037166</td>\n",
       "      <td>249.373582</td>\n",
       "      <td>6.973462</td>\n",
       "      <td>0.125512</td>\n",
       "      <td>1.014479</td>\n",
       "      <td>159.955775</td>\n",
       "    </tr>\n",
       "    <tr>\n",
       "      <th>min</th>\n",
       "      <td>1.615764e+06</td>\n",
       "      <td>1.832442e+06</td>\n",
       "      <td>40.664090</td>\n",
       "      <td>-74.016200</td>\n",
       "      <td>40.000000</td>\n",
       "      <td>1.000000</td>\n",
       "      <td>0.000000</td>\n",
       "      <td>0.000000</td>\n",
       "      <td>1.000000</td>\n",
       "      <td>0.000000</td>\n",
       "    </tr>\n",
       "    <tr>\n",
       "      <th>25%</th>\n",
       "      <td>4.528898e+06</td>\n",
       "      <td>2.137588e+07</td>\n",
       "      <td>40.709407</td>\n",
       "      <td>-73.989267</td>\n",
       "      <td>69.250000</td>\n",
       "      <td>1.000000</td>\n",
       "      <td>0.000000</td>\n",
       "      <td>0.000000</td>\n",
       "      <td>1.000000</td>\n",
       "      <td>0.000000</td>\n",
       "    </tr>\n",
       "    <tr>\n",
       "      <th>50%</th>\n",
       "      <td>8.054179e+06</td>\n",
       "      <td>3.226261e+07</td>\n",
       "      <td>40.718390</td>\n",
       "      <td>-73.947835</td>\n",
       "      <td>120.000000</td>\n",
       "      <td>2.000000</td>\n",
       "      <td>0.000000</td>\n",
       "      <td>0.000000</td>\n",
       "      <td>1.000000</td>\n",
       "      <td>0.000000</td>\n",
       "    </tr>\n",
       "    <tr>\n",
       "      <th>75%</th>\n",
       "      <td>1.073864e+07</td>\n",
       "      <td>4.985894e+07</td>\n",
       "      <td>40.772877</td>\n",
       "      <td>-73.930373</td>\n",
       "      <td>203.750000</td>\n",
       "      <td>4.000000</td>\n",
       "      <td>1.500000</td>\n",
       "      <td>0.032500</td>\n",
       "      <td>1.000000</td>\n",
       "      <td>85.250000</td>\n",
       "    </tr>\n",
       "    <tr>\n",
       "      <th>max</th>\n",
       "      <td>2.227582e+07</td>\n",
       "      <td>8.528834e+07</td>\n",
       "      <td>40.860320</td>\n",
       "      <td>-73.884930</td>\n",
       "      <td>400.000000</td>\n",
       "      <td>1000.000000</td>\n",
       "      <td>28.000000</td>\n",
       "      <td>0.450000</td>\n",
       "      <td>5.000000</td>\n",
       "      <td>365.000000</td>\n",
       "    </tr>\n",
       "  </tbody>\n",
       "</table>\n",
       "</div>"
      ],
      "text/plain": [
       "                 id       host_id   latitude  longitude       price  \\\n",
       "count  1.600000e+01  1.600000e+01  16.000000  16.000000   16.000000   \n",
       "mean   8.410815e+06  3.672124e+07  40.742235 -73.956065  147.625000   \n",
       "std    5.385275e+06  2.423883e+07   0.057460   0.035822  102.037166   \n",
       "min    1.615764e+06  1.832442e+06  40.664090 -74.016200   40.000000   \n",
       "25%    4.528898e+06  2.137588e+07  40.709407 -73.989267   69.250000   \n",
       "50%    8.054179e+06  3.226261e+07  40.718390 -73.947835  120.000000   \n",
       "75%    1.073864e+07  4.985894e+07  40.772877 -73.930373  203.750000   \n",
       "max    2.227582e+07  8.528834e+07  40.860320 -73.884930  400.000000   \n",
       "\n",
       "       minimum_nights  number_of_reviews  reviews_per_month  \\\n",
       "count       16.000000          16.000000          16.000000   \n",
       "mean        64.875000           2.687500           0.057500   \n",
       "std        249.373582           6.973462           0.125512   \n",
       "min          1.000000           0.000000           0.000000   \n",
       "25%          1.000000           0.000000           0.000000   \n",
       "50%          2.000000           0.000000           0.000000   \n",
       "75%          4.000000           1.500000           0.032500   \n",
       "max       1000.000000          28.000000           0.450000   \n",
       "\n",
       "       calculated_host_listings_count  availability_365  \n",
       "count                       16.000000         16.000000  \n",
       "mean                         1.312500         89.375000  \n",
       "std                          1.014479        159.955775  \n",
       "min                          1.000000          0.000000  \n",
       "25%                          1.000000          0.000000  \n",
       "50%                          1.000000          0.000000  \n",
       "75%                          1.000000         85.250000  \n",
       "max                          5.000000        365.000000  "
      ]
     },
     "execution_count": 10,
     "metadata": {},
     "output_type": "execute_result"
    }
   ],
   "source": [
    "df[df['name'].isnull()].describe()\n",
    "#the listings with null names are weird in their own ways... \n",
    "#either minimum nights required are insanely high \n",
    "#or availabiliy_365 are 0s?\n",
    "#and they have a much lower number of reviews per month. \n",
    "#they have a lower number of reviews in total too.\n",
    "\n",
    "#availabiliy_365: number of days when listing is available for booking"
   ]
  },
  {
   "cell_type": "code",
   "execution_count": 11,
   "metadata": {},
   "outputs": [
    {
     "data": {
      "text/plain": [
       "16"
      ]
     },
     "execution_count": 11,
     "metadata": {},
     "output_type": "execute_result"
    }
   ],
   "source": [
    "len(df[df['name'].isnull()])"
   ]
  },
  {
   "cell_type": "code",
   "execution_count": 12,
   "metadata": {},
   "outputs": [
    {
     "data": {
      "text/html": [
       "<div>\n",
       "<style scoped>\n",
       "    .dataframe tbody tr th:only-of-type {\n",
       "        vertical-align: middle;\n",
       "    }\n",
       "\n",
       "    .dataframe tbody tr th {\n",
       "        vertical-align: top;\n",
       "    }\n",
       "\n",
       "    .dataframe thead th {\n",
       "        text-align: right;\n",
       "    }\n",
       "</style>\n",
       "<table border=\"1\" class=\"dataframe\">\n",
       "  <thead>\n",
       "    <tr style=\"text-align: right;\">\n",
       "      <th></th>\n",
       "      <th>id</th>\n",
       "      <th>name</th>\n",
       "      <th>host_id</th>\n",
       "      <th>host_name</th>\n",
       "      <th>neighbourhood_group</th>\n",
       "      <th>neighbourhood</th>\n",
       "      <th>latitude</th>\n",
       "      <th>longitude</th>\n",
       "      <th>room_type</th>\n",
       "      <th>price</th>\n",
       "      <th>minimum_nights</th>\n",
       "      <th>number_of_reviews</th>\n",
       "      <th>last_review</th>\n",
       "      <th>reviews_per_month</th>\n",
       "      <th>calculated_host_listings_count</th>\n",
       "      <th>availability_365</th>\n",
       "    </tr>\n",
       "  </thead>\n",
       "  <tbody>\n",
       "    <tr>\n",
       "      <th>2854</th>\n",
       "      <td>1615764</td>\n",
       "      <td>NaN</td>\n",
       "      <td>6676776</td>\n",
       "      <td>Peter</td>\n",
       "      <td>Manhattan</td>\n",
       "      <td>Battery Park City</td>\n",
       "      <td>40.71239</td>\n",
       "      <td>-74.01620</td>\n",
       "      <td>Entire home/apt</td>\n",
       "      <td>400</td>\n",
       "      <td>1000</td>\n",
       "      <td>0</td>\n",
       "      <td>NaN</td>\n",
       "      <td>0.00</td>\n",
       "      <td>1</td>\n",
       "      <td>362</td>\n",
       "    </tr>\n",
       "    <tr>\n",
       "      <th>3703</th>\n",
       "      <td>2232600</td>\n",
       "      <td>NaN</td>\n",
       "      <td>11395220</td>\n",
       "      <td>Anna</td>\n",
       "      <td>Manhattan</td>\n",
       "      <td>East Village</td>\n",
       "      <td>40.73215</td>\n",
       "      <td>-73.98821</td>\n",
       "      <td>Entire home/apt</td>\n",
       "      <td>200</td>\n",
       "      <td>1</td>\n",
       "      <td>28</td>\n",
       "      <td>2015-06-08</td>\n",
       "      <td>0.45</td>\n",
       "      <td>1</td>\n",
       "      <td>341</td>\n",
       "    </tr>\n",
       "    <tr>\n",
       "      <th>5775</th>\n",
       "      <td>4209595</td>\n",
       "      <td>NaN</td>\n",
       "      <td>20700823</td>\n",
       "      <td>Jesse</td>\n",
       "      <td>Manhattan</td>\n",
       "      <td>Greenwich Village</td>\n",
       "      <td>40.73473</td>\n",
       "      <td>-73.99244</td>\n",
       "      <td>Entire home/apt</td>\n",
       "      <td>225</td>\n",
       "      <td>1</td>\n",
       "      <td>1</td>\n",
       "      <td>2015-01-01</td>\n",
       "      <td>0.02</td>\n",
       "      <td>1</td>\n",
       "      <td>0</td>\n",
       "    </tr>\n",
       "    <tr>\n",
       "      <th>5975</th>\n",
       "      <td>4370230</td>\n",
       "      <td>NaN</td>\n",
       "      <td>22686810</td>\n",
       "      <td>Michaël</td>\n",
       "      <td>Manhattan</td>\n",
       "      <td>Nolita</td>\n",
       "      <td>40.72046</td>\n",
       "      <td>-73.99550</td>\n",
       "      <td>Entire home/apt</td>\n",
       "      <td>215</td>\n",
       "      <td>7</td>\n",
       "      <td>5</td>\n",
       "      <td>2016-01-02</td>\n",
       "      <td>0.09</td>\n",
       "      <td>1</td>\n",
       "      <td>0</td>\n",
       "    </tr>\n",
       "    <tr>\n",
       "      <th>6269</th>\n",
       "      <td>4581788</td>\n",
       "      <td>NaN</td>\n",
       "      <td>21600904</td>\n",
       "      <td>Lucie</td>\n",
       "      <td>Brooklyn</td>\n",
       "      <td>Williamsburg</td>\n",
       "      <td>40.71370</td>\n",
       "      <td>-73.94378</td>\n",
       "      <td>Private room</td>\n",
       "      <td>150</td>\n",
       "      <td>1</td>\n",
       "      <td>0</td>\n",
       "      <td>NaN</td>\n",
       "      <td>0.00</td>\n",
       "      <td>1</td>\n",
       "      <td>0</td>\n",
       "    </tr>\n",
       "    <tr>\n",
       "      <th>6567</th>\n",
       "      <td>4756856</td>\n",
       "      <td>NaN</td>\n",
       "      <td>1832442</td>\n",
       "      <td>Carolina</td>\n",
       "      <td>Brooklyn</td>\n",
       "      <td>Bushwick</td>\n",
       "      <td>40.70046</td>\n",
       "      <td>-73.92825</td>\n",
       "      <td>Private room</td>\n",
       "      <td>70</td>\n",
       "      <td>1</td>\n",
       "      <td>0</td>\n",
       "      <td>NaN</td>\n",
       "      <td>0.00</td>\n",
       "      <td>1</td>\n",
       "      <td>0</td>\n",
       "    </tr>\n",
       "    <tr>\n",
       "      <th>6605</th>\n",
       "      <td>4774658</td>\n",
       "      <td>NaN</td>\n",
       "      <td>24625694</td>\n",
       "      <td>Josh</td>\n",
       "      <td>Manhattan</td>\n",
       "      <td>Washington Heights</td>\n",
       "      <td>40.85198</td>\n",
       "      <td>-73.93108</td>\n",
       "      <td>Private room</td>\n",
       "      <td>40</td>\n",
       "      <td>1</td>\n",
       "      <td>0</td>\n",
       "      <td>NaN</td>\n",
       "      <td>0.00</td>\n",
       "      <td>1</td>\n",
       "      <td>0</td>\n",
       "    </tr>\n",
       "    <tr>\n",
       "      <th>8841</th>\n",
       "      <td>6782407</td>\n",
       "      <td>NaN</td>\n",
       "      <td>31147528</td>\n",
       "      <td>Huei-Yin</td>\n",
       "      <td>Brooklyn</td>\n",
       "      <td>Williamsburg</td>\n",
       "      <td>40.71354</td>\n",
       "      <td>-73.93882</td>\n",
       "      <td>Private room</td>\n",
       "      <td>45</td>\n",
       "      <td>1</td>\n",
       "      <td>0</td>\n",
       "      <td>NaN</td>\n",
       "      <td>0.00</td>\n",
       "      <td>1</td>\n",
       "      <td>0</td>\n",
       "    </tr>\n",
       "    <tr>\n",
       "      <th>11963</th>\n",
       "      <td>9325951</td>\n",
       "      <td>NaN</td>\n",
       "      <td>33377685</td>\n",
       "      <td>Jonathan</td>\n",
       "      <td>Manhattan</td>\n",
       "      <td>Hell's Kitchen</td>\n",
       "      <td>40.76436</td>\n",
       "      <td>-73.98573</td>\n",
       "      <td>Entire home/apt</td>\n",
       "      <td>190</td>\n",
       "      <td>4</td>\n",
       "      <td>1</td>\n",
       "      <td>2016-01-05</td>\n",
       "      <td>0.02</td>\n",
       "      <td>1</td>\n",
       "      <td>0</td>\n",
       "    </tr>\n",
       "    <tr>\n",
       "      <th>12824</th>\n",
       "      <td>9787590</td>\n",
       "      <td>NaN</td>\n",
       "      <td>50448556</td>\n",
       "      <td>Miguel</td>\n",
       "      <td>Manhattan</td>\n",
       "      <td>Harlem</td>\n",
       "      <td>40.80316</td>\n",
       "      <td>-73.95189</td>\n",
       "      <td>Entire home/apt</td>\n",
       "      <td>300</td>\n",
       "      <td>5</td>\n",
       "      <td>0</td>\n",
       "      <td>NaN</td>\n",
       "      <td>0.00</td>\n",
       "      <td>5</td>\n",
       "      <td>0</td>\n",
       "    </tr>\n",
       "    <tr>\n",
       "      <th>13059</th>\n",
       "      <td>9885866</td>\n",
       "      <td>NaN</td>\n",
       "      <td>37306329</td>\n",
       "      <td>Juliette</td>\n",
       "      <td>Manhattan</td>\n",
       "      <td>Chinatown</td>\n",
       "      <td>40.71632</td>\n",
       "      <td>-73.99328</td>\n",
       "      <td>Private room</td>\n",
       "      <td>67</td>\n",
       "      <td>4</td>\n",
       "      <td>0</td>\n",
       "      <td>NaN</td>\n",
       "      <td>0.00</td>\n",
       "      <td>1</td>\n",
       "      <td>0</td>\n",
       "    </tr>\n",
       "    <tr>\n",
       "      <th>13401</th>\n",
       "      <td>10052289</td>\n",
       "      <td>NaN</td>\n",
       "      <td>49522403</td>\n",
       "      <td>Vanessa</td>\n",
       "      <td>Brooklyn</td>\n",
       "      <td>Brownsville</td>\n",
       "      <td>40.66409</td>\n",
       "      <td>-73.92314</td>\n",
       "      <td>Private room</td>\n",
       "      <td>50</td>\n",
       "      <td>3</td>\n",
       "      <td>3</td>\n",
       "      <td>2016-08-18</td>\n",
       "      <td>0.07</td>\n",
       "      <td>1</td>\n",
       "      <td>362</td>\n",
       "    </tr>\n",
       "    <tr>\n",
       "      <th>15819</th>\n",
       "      <td>12797684</td>\n",
       "      <td>NaN</td>\n",
       "      <td>69715276</td>\n",
       "      <td>Yan</td>\n",
       "      <td>Manhattan</td>\n",
       "      <td>Upper West Side</td>\n",
       "      <td>40.79843</td>\n",
       "      <td>-73.96404</td>\n",
       "      <td>Private room</td>\n",
       "      <td>100</td>\n",
       "      <td>1</td>\n",
       "      <td>0</td>\n",
       "      <td>NaN</td>\n",
       "      <td>0.00</td>\n",
       "      <td>2</td>\n",
       "      <td>0</td>\n",
       "    </tr>\n",
       "    <tr>\n",
       "      <th>16071</th>\n",
       "      <td>12988898</td>\n",
       "      <td>NaN</td>\n",
       "      <td>71552588</td>\n",
       "      <td>Andrea</td>\n",
       "      <td>Bronx</td>\n",
       "      <td>Fordham</td>\n",
       "      <td>40.86032</td>\n",
       "      <td>-73.88493</td>\n",
       "      <td>Shared room</td>\n",
       "      <td>130</td>\n",
       "      <td>1</td>\n",
       "      <td>0</td>\n",
       "      <td>NaN</td>\n",
       "      <td>0.00</td>\n",
       "      <td>1</td>\n",
       "      <td>365</td>\n",
       "    </tr>\n",
       "    <tr>\n",
       "      <th>18047</th>\n",
       "      <td>14135050</td>\n",
       "      <td>NaN</td>\n",
       "      <td>85288337</td>\n",
       "      <td>Jeff</td>\n",
       "      <td>Brooklyn</td>\n",
       "      <td>Bedford-Stuyvesant</td>\n",
       "      <td>40.69421</td>\n",
       "      <td>-73.93234</td>\n",
       "      <td>Private room</td>\n",
       "      <td>70</td>\n",
       "      <td>3</td>\n",
       "      <td>0</td>\n",
       "      <td>NaN</td>\n",
       "      <td>0.00</td>\n",
       "      <td>1</td>\n",
       "      <td>0</td>\n",
       "    </tr>\n",
       "    <tr>\n",
       "      <th>28889</th>\n",
       "      <td>22275821</td>\n",
       "      <td>NaN</td>\n",
       "      <td>49662398</td>\n",
       "      <td>Kathleen</td>\n",
       "      <td>Brooklyn</td>\n",
       "      <td>Bushwick</td>\n",
       "      <td>40.69546</td>\n",
       "      <td>-73.92741</td>\n",
       "      <td>Entire home/apt</td>\n",
       "      <td>110</td>\n",
       "      <td>4</td>\n",
       "      <td>5</td>\n",
       "      <td>2018-08-13</td>\n",
       "      <td>0.27</td>\n",
       "      <td>1</td>\n",
       "      <td>0</td>\n",
       "    </tr>\n",
       "  </tbody>\n",
       "</table>\n",
       "</div>"
      ],
      "text/plain": [
       "             id name   host_id host_name neighbourhood_group  \\\n",
       "2854    1615764  NaN   6676776     Peter           Manhattan   \n",
       "3703    2232600  NaN  11395220      Anna           Manhattan   \n",
       "5775    4209595  NaN  20700823     Jesse           Manhattan   \n",
       "5975    4370230  NaN  22686810   Michaël           Manhattan   \n",
       "6269    4581788  NaN  21600904     Lucie            Brooklyn   \n",
       "6567    4756856  NaN   1832442  Carolina            Brooklyn   \n",
       "6605    4774658  NaN  24625694      Josh           Manhattan   \n",
       "8841    6782407  NaN  31147528  Huei-Yin            Brooklyn   \n",
       "11963   9325951  NaN  33377685  Jonathan           Manhattan   \n",
       "12824   9787590  NaN  50448556    Miguel           Manhattan   \n",
       "13059   9885866  NaN  37306329  Juliette           Manhattan   \n",
       "13401  10052289  NaN  49522403   Vanessa            Brooklyn   \n",
       "15819  12797684  NaN  69715276       Yan           Manhattan   \n",
       "16071  12988898  NaN  71552588    Andrea               Bronx   \n",
       "18047  14135050  NaN  85288337      Jeff            Brooklyn   \n",
       "28889  22275821  NaN  49662398  Kathleen            Brooklyn   \n",
       "\n",
       "            neighbourhood  latitude  longitude        room_type  price  \\\n",
       "2854    Battery Park City  40.71239  -74.01620  Entire home/apt    400   \n",
       "3703         East Village  40.73215  -73.98821  Entire home/apt    200   \n",
       "5775    Greenwich Village  40.73473  -73.99244  Entire home/apt    225   \n",
       "5975               Nolita  40.72046  -73.99550  Entire home/apt    215   \n",
       "6269         Williamsburg  40.71370  -73.94378     Private room    150   \n",
       "6567             Bushwick  40.70046  -73.92825     Private room     70   \n",
       "6605   Washington Heights  40.85198  -73.93108     Private room     40   \n",
       "8841         Williamsburg  40.71354  -73.93882     Private room     45   \n",
       "11963      Hell's Kitchen  40.76436  -73.98573  Entire home/apt    190   \n",
       "12824              Harlem  40.80316  -73.95189  Entire home/apt    300   \n",
       "13059           Chinatown  40.71632  -73.99328     Private room     67   \n",
       "13401         Brownsville  40.66409  -73.92314     Private room     50   \n",
       "15819     Upper West Side  40.79843  -73.96404     Private room    100   \n",
       "16071             Fordham  40.86032  -73.88493      Shared room    130   \n",
       "18047  Bedford-Stuyvesant  40.69421  -73.93234     Private room     70   \n",
       "28889            Bushwick  40.69546  -73.92741  Entire home/apt    110   \n",
       "\n",
       "       minimum_nights  number_of_reviews last_review  reviews_per_month  \\\n",
       "2854             1000                  0         NaN               0.00   \n",
       "3703                1                 28  2015-06-08               0.45   \n",
       "5775                1                  1  2015-01-01               0.02   \n",
       "5975                7                  5  2016-01-02               0.09   \n",
       "6269                1                  0         NaN               0.00   \n",
       "6567                1                  0         NaN               0.00   \n",
       "6605                1                  0         NaN               0.00   \n",
       "8841                1                  0         NaN               0.00   \n",
       "11963               4                  1  2016-01-05               0.02   \n",
       "12824               5                  0         NaN               0.00   \n",
       "13059               4                  0         NaN               0.00   \n",
       "13401               3                  3  2016-08-18               0.07   \n",
       "15819               1                  0         NaN               0.00   \n",
       "16071               1                  0         NaN               0.00   \n",
       "18047               3                  0         NaN               0.00   \n",
       "28889               4                  5  2018-08-13               0.27   \n",
       "\n",
       "       calculated_host_listings_count  availability_365  \n",
       "2854                                1               362  \n",
       "3703                                1               341  \n",
       "5775                                1                 0  \n",
       "5975                                1                 0  \n",
       "6269                                1                 0  \n",
       "6567                                1                 0  \n",
       "6605                                1                 0  \n",
       "8841                                1                 0  \n",
       "11963                               1                 0  \n",
       "12824                               5                 0  \n",
       "13059                               1                 0  \n",
       "13401                               1               362  \n",
       "15819                               2                 0  \n",
       "16071                               1               365  \n",
       "18047                               1                 0  \n",
       "28889                               1                 0  "
      ]
     },
     "execution_count": 12,
     "metadata": {},
     "output_type": "execute_result"
    }
   ],
   "source": [
    "df[df['name'].isnull()]"
   ]
  },
  {
   "cell_type": "markdown",
   "metadata": {},
   "source": [
    "### Host name is null"
   ]
  },
  {
   "cell_type": "code",
   "execution_count": 13,
   "metadata": {
    "scrolled": false
   },
   "outputs": [
    {
     "data": {
      "text/html": [
       "<div>\n",
       "<style scoped>\n",
       "    .dataframe tbody tr th:only-of-type {\n",
       "        vertical-align: middle;\n",
       "    }\n",
       "\n",
       "    .dataframe tbody tr th {\n",
       "        vertical-align: top;\n",
       "    }\n",
       "\n",
       "    .dataframe thead th {\n",
       "        text-align: right;\n",
       "    }\n",
       "</style>\n",
       "<table border=\"1\" class=\"dataframe\">\n",
       "  <thead>\n",
       "    <tr style=\"text-align: right;\">\n",
       "      <th></th>\n",
       "      <th>id</th>\n",
       "      <th>name</th>\n",
       "      <th>host_id</th>\n",
       "      <th>host_name</th>\n",
       "      <th>neighbourhood_group</th>\n",
       "      <th>neighbourhood</th>\n",
       "      <th>latitude</th>\n",
       "      <th>longitude</th>\n",
       "      <th>room_type</th>\n",
       "      <th>price</th>\n",
       "      <th>minimum_nights</th>\n",
       "      <th>number_of_reviews</th>\n",
       "      <th>last_review</th>\n",
       "      <th>reviews_per_month</th>\n",
       "      <th>calculated_host_listings_count</th>\n",
       "      <th>availability_365</th>\n",
       "    </tr>\n",
       "  </thead>\n",
       "  <tbody>\n",
       "    <tr>\n",
       "      <th>360</th>\n",
       "      <td>100184</td>\n",
       "      <td>Bienvenue</td>\n",
       "      <td>526653</td>\n",
       "      <td>NaN</td>\n",
       "      <td>Queens</td>\n",
       "      <td>Queens Village</td>\n",
       "      <td>40.72413</td>\n",
       "      <td>-73.76133</td>\n",
       "      <td>Private room</td>\n",
       "      <td>50</td>\n",
       "      <td>1</td>\n",
       "      <td>43</td>\n",
       "      <td>2019-07-08</td>\n",
       "      <td>0.45</td>\n",
       "      <td>1</td>\n",
       "      <td>88</td>\n",
       "    </tr>\n",
       "    <tr>\n",
       "      <th>2700</th>\n",
       "      <td>1449546</td>\n",
       "      <td>Cozy Studio in Flatbush</td>\n",
       "      <td>7779204</td>\n",
       "      <td>NaN</td>\n",
       "      <td>Brooklyn</td>\n",
       "      <td>Flatbush</td>\n",
       "      <td>40.64965</td>\n",
       "      <td>-73.96154</td>\n",
       "      <td>Entire home/apt</td>\n",
       "      <td>100</td>\n",
       "      <td>30</td>\n",
       "      <td>49</td>\n",
       "      <td>2017-01-02</td>\n",
       "      <td>0.69</td>\n",
       "      <td>1</td>\n",
       "      <td>342</td>\n",
       "    </tr>\n",
       "    <tr>\n",
       "      <th>5745</th>\n",
       "      <td>4183989</td>\n",
       "      <td>SPRING in the City!! Zen-Style Tranquil Bedroom</td>\n",
       "      <td>919218</td>\n",
       "      <td>NaN</td>\n",
       "      <td>Manhattan</td>\n",
       "      <td>Harlem</td>\n",
       "      <td>40.80606</td>\n",
       "      <td>-73.95061</td>\n",
       "      <td>Private room</td>\n",
       "      <td>86</td>\n",
       "      <td>3</td>\n",
       "      <td>34</td>\n",
       "      <td>2019-05-23</td>\n",
       "      <td>1.00</td>\n",
       "      <td>1</td>\n",
       "      <td>359</td>\n",
       "    </tr>\n",
       "    <tr>\n",
       "      <th>6075</th>\n",
       "      <td>4446862</td>\n",
       "      <td>Charming Room in Prospect Heights!</td>\n",
       "      <td>23077718</td>\n",
       "      <td>NaN</td>\n",
       "      <td>Brooklyn</td>\n",
       "      <td>Crown Heights</td>\n",
       "      <td>40.67512</td>\n",
       "      <td>-73.96146</td>\n",
       "      <td>Private room</td>\n",
       "      <td>50</td>\n",
       "      <td>1</td>\n",
       "      <td>0</td>\n",
       "      <td>NaN</td>\n",
       "      <td>0.00</td>\n",
       "      <td>1</td>\n",
       "      <td>0</td>\n",
       "    </tr>\n",
       "    <tr>\n",
       "      <th>6582</th>\n",
       "      <td>4763327</td>\n",
       "      <td>Luxurious, best location, spa inc'l</td>\n",
       "      <td>24576978</td>\n",
       "      <td>NaN</td>\n",
       "      <td>Brooklyn</td>\n",
       "      <td>Greenpoint</td>\n",
       "      <td>40.72035</td>\n",
       "      <td>-73.95355</td>\n",
       "      <td>Entire home/apt</td>\n",
       "      <td>195</td>\n",
       "      <td>1</td>\n",
       "      <td>1</td>\n",
       "      <td>2015-10-20</td>\n",
       "      <td>0.02</td>\n",
       "      <td>1</td>\n",
       "      <td>0</td>\n",
       "    </tr>\n",
       "  </tbody>\n",
       "</table>\n",
       "</div>"
      ],
      "text/plain": [
       "           id                                             name   host_id  \\\n",
       "360    100184                                        Bienvenue    526653   \n",
       "2700  1449546                          Cozy Studio in Flatbush   7779204   \n",
       "5745  4183989  SPRING in the City!! Zen-Style Tranquil Bedroom    919218   \n",
       "6075  4446862               Charming Room in Prospect Heights!  23077718   \n",
       "6582  4763327              Luxurious, best location, spa inc'l  24576978   \n",
       "\n",
       "     host_name neighbourhood_group   neighbourhood  latitude  longitude  \\\n",
       "360        NaN              Queens  Queens Village  40.72413  -73.76133   \n",
       "2700       NaN            Brooklyn        Flatbush  40.64965  -73.96154   \n",
       "5745       NaN           Manhattan          Harlem  40.80606  -73.95061   \n",
       "6075       NaN            Brooklyn   Crown Heights  40.67512  -73.96146   \n",
       "6582       NaN            Brooklyn      Greenpoint  40.72035  -73.95355   \n",
       "\n",
       "            room_type  price  minimum_nights  number_of_reviews last_review  \\\n",
       "360      Private room     50               1                 43  2019-07-08   \n",
       "2700  Entire home/apt    100              30                 49  2017-01-02   \n",
       "5745     Private room     86               3                 34  2019-05-23   \n",
       "6075     Private room     50               1                  0         NaN   \n",
       "6582  Entire home/apt    195               1                  1  2015-10-20   \n",
       "\n",
       "      reviews_per_month  calculated_host_listings_count  availability_365  \n",
       "360                0.45                               1                88  \n",
       "2700               0.69                               1               342  \n",
       "5745               1.00                               1               359  \n",
       "6075               0.00                               1                 0  \n",
       "6582               0.02                               1                 0  "
      ]
     },
     "execution_count": 13,
     "metadata": {},
     "output_type": "execute_result"
    }
   ],
   "source": [
    "df[df['host_name'].isnull()].head()\n",
    "\n",
    "# similar to where name is null, availability_365 is sometimes 0\n",
    "# and minimum nights required could be high"
   ]
  },
  {
   "cell_type": "code",
   "execution_count": 45,
   "metadata": {},
   "outputs": [
    {
     "data": {
      "text/plain": [
       "(0, 100)"
      ]
     },
     "execution_count": 45,
     "metadata": {},
     "output_type": "execute_result"
    },
    {
     "data": {
      "image/png": "[encoded data removed]",
      "text/plain": [
       "<Figure size 432x288 with 1 Axes>"
      ]
     },
     "metadata": {},
     "output_type": "display_data"
    }
   ],
   "source": [
    "fig=plt.figure(figsize=(6,4))\n",
    "fig=sns.distplot(df_clean['minimum_nights'],bins=20,color='#1E90FF')\n",
    "plt.xlim(0, 100)"
   ]
  },
  {
   "cell_type": "code",
   "execution_count": 15,
   "metadata": {},
   "outputs": [],
   "source": [
    "# excluding rows with minimum nights over 100 and available 365 =0\n",
    "df_clean=df[(df['minimum_nights']<50) & (df['availability_365']>0)]"
   ]
  },
  {
   "cell_type": "markdown",
   "metadata": {},
   "source": [
    "### Distribution of Price"
   ]
  },
  {
   "cell_type": "code",
   "execution_count": 16,
   "metadata": {},
   "outputs": [
    {
     "data": {
      "text/plain": [
       "(0, 1000)"
      ]
     },
     "execution_count": 16,
     "metadata": {},
     "output_type": "execute_result"
    },
    {
     "data": {
      "image/png": "[encoded data removed]",
      "text/plain": [
       "<Figure size 432x288 with 1 Axes>"
      ]
     },
     "metadata": {},
     "output_type": "display_data"
    }
   ],
   "source": [
    "fig=plt.figure(figsize=(6,4))\n",
    "fig=sns.distplot(df_clean['price'],bins=500,color='#1E90FF')\n",
    "plt.xlim(0, 1000)"
   ]
  },
  {
   "cell_type": "markdown",
   "metadata": {},
   "source": [
    "### Distribution of availabity"
   ]
  },
  {
   "cell_type": "code",
   "execution_count": 17,
   "metadata": {},
   "outputs": [
    {
     "data": {
      "text/plain": [
       "(0, 365)"
      ]
     },
     "execution_count": 17,
     "metadata": {},
     "output_type": "execute_result"
    },
    {
     "data": {
      "image/png": "[encoded data removed]",
      "text/plain": [
       "<Figure size 432x288 with 1 Axes>"
      ]
     },
     "metadata": {},
     "output_type": "display_data"
    }
   ],
   "source": [
    "fig=plt.figure(figsize=(6,4))\n",
    "fig=sns.distplot(df_clean['availability_365'],bins=100,color='#1E90FF')\n",
    "plt.xlim(0, 365)"
   ]
  },
  {
   "cell_type": "code",
   "execution_count": 20,
   "metadata": {
    "scrolled": true
   },
   "outputs": [
    {
     "data": {
      "text/plain": [
       "30996"
      ]
     },
     "execution_count": 20,
     "metadata": {},
     "output_type": "execute_result"
    }
   ],
   "source": [
    "len(df_clean)"
   ]
  },
  {
   "cell_type": "code",
   "execution_count": 21,
   "metadata": {},
   "outputs": [
    {
     "data": {
      "text/plain": [
       "count    31362.000000\n",
       "mean       175.831994\n",
       "std        126.187636\n",
       "min          1.000000\n",
       "25%         55.000000\n",
       "50%        168.000000\n",
       "75%        305.000000\n",
       "max        365.000000\n",
       "Name: availability_365, dtype: float64"
      ]
     },
     "execution_count": 21,
     "metadata": {},
     "output_type": "execute_result"
    }
   ],
   "source": [
    "df[df['availability_365']!=0]['availability_365'].describe()\n",
    "# looking at listings with availability, the availability has a lot of variability but it makes more sense now.\n",
    "# most listings are available for half of the year."
   ]
  },
  {
   "cell_type": "markdown",
   "metadata": {},
   "source": [
    "### Countplot of room type"
   ]
  },
  {
   "cell_type": "code",
   "execution_count": 22,
   "metadata": {},
   "outputs": [
    {
     "data": {
      "image/png": "[encoded data removed]",
      "text/plain": [
       "<Figure size 432x288 with 1 Axes>"
      ]
     },
     "metadata": {},
     "output_type": "display_data"
    }
   ],
   "source": [
    "fig, ax = plt.subplots(nrows=1, ncols=1, figsize=(6, 4))\n",
    "sns.countplot(df['room_type'])\n",
    "ax.set_title('Count plot of room type', fontsize=16)\n",
    "plt.tight_layout()\n",
    "plt.show()"
   ]
  },
  {
   "cell_type": "markdown",
   "metadata": {},
   "source": [
    "### Top hosts"
   ]
  },
  {
   "cell_type": "code",
   "execution_count": 23,
   "metadata": {},
   "outputs": [
    {
     "data": {
      "text/plain": [
       "(array([ 0,  1,  2,  3,  4,  5,  6,  7,  8,  9, 10, 11, 12, 13, 14, 15, 16,\n",
       "        17, 18, 19]), <a list of 20 Text xticklabel objects>)"
      ]
     },
     "execution_count": 23,
     "metadata": {},
     "output_type": "execute_result"
    },
    {
     "data": {
      "image/png": "[encoded data removed]",
      "text/plain": [
       "<Figure size 432x288 with 1 Axes>"
      ]
     },
     "metadata": {},
     "output_type": "display_data"
    }
   ],
   "source": [
    "df['host_id'].value_counts().head(20).plot(kind='bar',color='#1E90FF')\n",
    "plt.xticks(rotation=70)"
   ]
  },
  {
   "cell_type": "code",
   "execution_count": 24,
   "metadata": {},
   "outputs": [],
   "source": [
    "hostid_list=pd.DataFrame(df['host_id'].value_counts()[0:20]).index.tolist()"
   ]
  },
  {
   "cell_type": "code",
   "execution_count": 25,
   "metadata": {},
   "outputs": [],
   "source": [
    "top20host=df.loc[df['host_id'].isin(hostid_list)]"
   ]
  },
  {
   "cell_type": "code",
   "execution_count": 26,
   "metadata": {},
   "outputs": [
    {
     "data": {
      "text/plain": [
       "(array([0, 1, 2]), <a list of 3 Text xticklabel objects>)"
      ]
     },
     "execution_count": 26,
     "metadata": {},
     "output_type": "execute_result"
    },
    {
     "data": {
      "image/png": "[encoded data removed]",
      "text/plain": [
       "<Figure size 432x288 with 1 Axes>"
      ]
     },
     "metadata": {},
     "output_type": "display_data"
    }
   ],
   "source": [
    "top20host['room_type'].value_counts().plot(kind='bar')\n",
    "plt.xticks(rotation=0)\n",
    "#Most of listings by the top 20 hosts are entire home/apt"
   ]
  },
  {
   "cell_type": "markdown",
   "metadata": {},
   "source": [
    "### Top neighborhood groups"
   ]
  },
  {
   "cell_type": "code",
   "execution_count": 27,
   "metadata": {},
   "outputs": [
    {
     "data": {
      "text/plain": [
       "(array([0, 1, 2, 3, 4]), <a list of 5 Text xticklabel objects>)"
      ]
     },
     "execution_count": 27,
     "metadata": {},
     "output_type": "execute_result"
    },
    {
     "data": {
      "image/png": "[encoded data removed]",
      "text/plain": [
       "<Figure size 432x288 with 1 Axes>"
      ]
     },
     "metadata": {},
     "output_type": "display_data"
    }
   ],
   "source": [
    "df['neighbourhood_group'].value_counts().plot(kind='bar',color='#1E90FF')\n",
    "plt.xticks(rotation=0)"
   ]
  },
  {
   "cell_type": "code",
   "execution_count": 28,
   "metadata": {},
   "outputs": [
    {
     "data": {
      "image/png": "[encoded data removed]",
      "text/plain": [
       "<Figure size 432x288 with 1 Axes>"
      ]
     },
     "metadata": {},
     "output_type": "display_data"
    }
   ],
   "source": [
    "#box plot overallqual/saleprice\n",
    "var = 'neighbourhood_group'\n",
    "data = pd.concat([df_clean['price'], df_clean[var]], axis=1)\n",
    "f, ax = plt.subplots(figsize=(6, 4))\n",
    "fig = sns.boxplot(x=var, y=\"price\", data=data)\n",
    "plt.xticks(rotation=50)\n",
    "fig.axis(ymin=0, ymax=800);"
   ]
  },
  {
   "cell_type": "markdown",
   "metadata": {},
   "source": [
    "### Top neighbourhoods"
   ]
  },
  {
   "cell_type": "code",
   "execution_count": 29,
   "metadata": {},
   "outputs": [
    {
     "data": {
      "text/plain": [
       "(array([0, 1, 2, 3, 4, 5, 6, 7, 8, 9]), <a list of 10 Text xticklabel objects>)"
      ]
     },
     "execution_count": 29,
     "metadata": {},
     "output_type": "execute_result"
    },
    {
     "data": {
      "image/png": "[encoded data removed]",
      "text/plain": [
       "<Figure size 432x288 with 1 Axes>"
      ]
     },
     "metadata": {},
     "output_type": "display_data"
    }
   ],
   "source": [
    "df['neighbourhood'].value_counts().head(10).plot(kind='bar',color='#1E90FF')\n",
    "plt.xticks(rotation=60)"
   ]
  },
  {
   "cell_type": "code",
   "execution_count": 30,
   "metadata": {},
   "outputs": [],
   "source": [
    "neighbourhood_list=pd.DataFrame(df['neighbourhood']\\\n",
    "                                .value_counts()[0:10]).index.tolist()\n",
    "top10neighbourhood=df.loc[df['neighbourhood'].isin(neighbourhood_list)]"
   ]
  },
  {
   "cell_type": "code",
   "execution_count": 31,
   "metadata": {},
   "outputs": [],
   "source": [
    "top10neighbourhood=top10neighbourhood.loc[top10neighbourhood['price']\\\n",
    "                                <top10neighbourhood['price'].quantile(0.90)]"
   ]
  },
  {
   "cell_type": "code",
   "execution_count": 32,
   "metadata": {},
   "outputs": [
    {
     "data": {
      "image/png": "[encoded data removed]",
      "text/plain": [
       "<Figure size 1080x576 with 1 Axes>"
      ]
     },
     "metadata": {},
     "output_type": "display_data"
    }
   ],
   "source": [
    "plt.figure(figsize=(15,8))\n",
    "sns.boxplot(x=\"neighbourhood\", y=\"price\", data=top10neighbourhood)\n",
    "plt.xticks(rotation=50)\n",
    "plt.show()"
   ]
  },
  {
   "cell_type": "markdown",
   "metadata": {},
   "source": [
    "### Price on a map"
   ]
  },
  {
   "cell_type": "code",
   "execution_count": 33,
   "metadata": {},
   "outputs": [
    {
     "name": "stderr",
     "output_type": "stream",
     "text": [
      "No handles with labels found to put in legend.\n"
     ]
    },
    {
     "data": {
      "text/plain": [
       "<matplotlib.legend.Legend at 0x1a1cc5ed68>"
      ]
     },
     "execution_count": 33,
     "metadata": {},
     "output_type": "execute_result"
    },
    {
     "data": {
      "image/png": "[encoded data removed]",
      "text/plain": [
       "<Figure size 720x576 with 2 Axes>"
      ]
     },
     "metadata": {},
     "output_type": "display_data"
    }
   ],
   "source": [
    "sub_df1=df[df['price']<df['price'].quantile(0.9)]\n",
    "viz_1=sub_df1.plot(kind='scatter', \n",
    "                   x='longitude', \n",
    "                   y='latitude', \n",
    "                   #label='availability_365', \n",
    "                   c='price',\n",
    "                   cmap=plt.get_cmap('jet'), \n",
    "                   colorbar=True, \n",
    "                   alpha=0.4, \n",
    "                   figsize=(10,8))\n",
    "viz_1.legend()"
   ]
  },
  {
   "cell_type": "markdown",
   "metadata": {},
   "source": [
    "### Correlations among variables"
   ]
  },
  {
   "cell_type": "code",
   "execution_count": 34,
   "metadata": {},
   "outputs": [
    {
     "data": {
      "text/html": [
       "<style  type=\"text/css\" >\n",
       "    #T_e61fc210_752f_11ea_8947_8c85902a085brow0_col0 {\n",
       "            background-color:  #b40426;\n",
       "        }    #T_e61fc210_752f_11ea_8947_8c85902a085brow0_col1 {\n",
       "            background-color:  #f7b79b;\n",
       "        }    #T_e61fc210_752f_11ea_8947_8c85902a085brow0_col2 {\n",
       "            background-color:  #4055c8;\n",
       "        }    #T_e61fc210_752f_11ea_8947_8c85902a085brow0_col3 {\n",
       "            background-color:  #779af7;\n",
       "        }    #T_e61fc210_752f_11ea_8947_8c85902a085brow0_col4 {\n",
       "            background-color:  #6c8ff1;\n",
       "        }    #T_e61fc210_752f_11ea_8947_8c85902a085brow0_col5 {\n",
       "            background-color:  #82a6fb;\n",
       "        }    #T_e61fc210_752f_11ea_8947_8c85902a085brow0_col6 {\n",
       "            background-color:  #3b4cc0;\n",
       "        }    #T_e61fc210_752f_11ea_8947_8c85902a085brow0_col7 {\n",
       "            background-color:  #a1c0ff;\n",
       "        }    #T_e61fc210_752f_11ea_8947_8c85902a085brow0_col8 {\n",
       "            background-color:  #86a9fc;\n",
       "        }    #T_e61fc210_752f_11ea_8947_8c85902a085brow0_col9 {\n",
       "            background-color:  #3b4cc0;\n",
       "        }    #T_e61fc210_752f_11ea_8947_8c85902a085brow1_col0 {\n",
       "            background-color:  #f6a586;\n",
       "        }    #T_e61fc210_752f_11ea_8947_8c85902a085brow1_col1 {\n",
       "            background-color:  #b40426;\n",
       "        }    #T_e61fc210_752f_11ea_8947_8c85902a085brow1_col2 {\n",
       "            background-color:  #4358cb;\n",
       "        }    #T_e61fc210_752f_11ea_8947_8c85902a085brow1_col3 {\n",
       "            background-color:  #85a8fc;\n",
       "        }    #T_e61fc210_752f_11ea_8947_8c85902a085brow1_col4 {\n",
       "            background-color:  #6a8bef;\n",
       "        }    #T_e61fc210_752f_11ea_8947_8c85902a085brow1_col5 {\n",
       "            background-color:  #7ea1fa;\n",
       "        }    #T_e61fc210_752f_11ea_8947_8c85902a085brow1_col6 {\n",
       "            background-color:  #6c8ff1;\n",
       "        }    #T_e61fc210_752f_11ea_8947_8c85902a085brow1_col7 {\n",
       "            background-color:  #aec9fc;\n",
       "        }    #T_e61fc210_752f_11ea_8947_8c85902a085brow1_col8 {\n",
       "            background-color:  #8db0fe;\n",
       "        }    #T_e61fc210_752f_11ea_8947_8c85902a085brow1_col9 {\n",
       "            background-color:  #7093f3;\n",
       "        }    #T_e61fc210_752f_11ea_8947_8c85902a085brow2_col0 {\n",
       "            background-color:  #a7c5fe;\n",
       "        }    #T_e61fc210_752f_11ea_8947_8c85902a085brow2_col1 {\n",
       "            background-color:  #7da0f9;\n",
       "        }    #T_e61fc210_752f_11ea_8947_8c85902a085brow2_col2 {\n",
       "            background-color:  #b40426;\n",
       "        }    #T_e61fc210_752f_11ea_8947_8c85902a085brow2_col3 {\n",
       "            background-color:  #7ea1fa;\n",
       "        }    #T_e61fc210_752f_11ea_8947_8c85902a085brow2_col4 {\n",
       "            background-color:  #7295f4;\n",
       "        }    #T_e61fc210_752f_11ea_8947_8c85902a085brow2_col5 {\n",
       "            background-color:  #9dbdff;\n",
       "        }    #T_e61fc210_752f_11ea_8947_8c85902a085brow2_col6 {\n",
       "            background-color:  #a3c2fe;\n",
       "        }    #T_e61fc210_752f_11ea_8947_8c85902a085brow2_col7 {\n",
       "            background-color:  #86a9fc;\n",
       "        }    #T_e61fc210_752f_11ea_8947_8c85902a085brow2_col8 {\n",
       "            background-color:  #6a8bef;\n",
       "        }    #T_e61fc210_752f_11ea_8947_8c85902a085brow2_col9 {\n",
       "            background-color:  #5673e0;\n",
       "        }    #T_e61fc210_752f_11ea_8947_8c85902a085brow3_col0 {\n",
       "            background-color:  #b3cdfb;\n",
       "        }    #T_e61fc210_752f_11ea_8947_8c85902a085brow3_col1 {\n",
       "            background-color:  #96b7ff;\n",
       "        }    #T_e61fc210_752f_11ea_8947_8c85902a085brow3_col2 {\n",
       "            background-color:  #5673e0;\n",
       "        }    #T_e61fc210_752f_11ea_8947_8c85902a085brow3_col3 {\n",
       "            background-color:  #b40426;\n",
       "        }    #T_e61fc210_752f_11ea_8947_8c85902a085brow3_col4 {\n",
       "            background-color:  #3b4cc0;\n",
       "        }    #T_e61fc210_752f_11ea_8947_8c85902a085brow3_col5 {\n",
       "            background-color:  #6687ed;\n",
       "        }    #T_e61fc210_752f_11ea_8947_8c85902a085brow3_col6 {\n",
       "            background-color:  #aec9fc;\n",
       "        }    #T_e61fc210_752f_11ea_8947_8c85902a085brow3_col7 {\n",
       "            background-color:  #aac7fd;\n",
       "        }    #T_e61fc210_752f_11ea_8947_8c85902a085brow3_col8 {\n",
       "            background-color:  #3b4cc0;\n",
       "        }    #T_e61fc210_752f_11ea_8947_8c85902a085brow3_col9 {\n",
       "            background-color:  #6180e9;\n",
       "        }    #T_e61fc210_752f_11ea_8947_8c85902a085brow4_col0 {\n",
       "            background-color:  #abc8fd;\n",
       "        }    #T_e61fc210_752f_11ea_8947_8c85902a085brow4_col1 {\n",
       "            background-color:  #7da0f9;\n",
       "        }    #T_e61fc210_752f_11ea_8947_8c85902a085brow4_col2 {\n",
       "            background-color:  #4a63d3;\n",
       "        }    #T_e61fc210_752f_11ea_8947_8c85902a085brow4_col3 {\n",
       "            background-color:  #3b4cc0;\n",
       "        }    #T_e61fc210_752f_11ea_8947_8c85902a085brow4_col4 {\n",
       "            background-color:  #b40426;\n",
       "        }    #T_e61fc210_752f_11ea_8947_8c85902a085brow4_col5 {\n",
       "            background-color:  #96b7ff;\n",
       "        }    #T_e61fc210_752f_11ea_8947_8c85902a085brow4_col6 {\n",
       "            background-color:  #94b6ff;\n",
       "        }    #T_e61fc210_752f_11ea_8947_8c85902a085brow4_col7 {\n",
       "            background-color:  #7699f6;\n",
       "        }    #T_e61fc210_752f_11ea_8947_8c85902a085brow4_col8 {\n",
       "            background-color:  #7699f6;\n",
       "        }    #T_e61fc210_752f_11ea_8947_8c85902a085brow4_col9 {\n",
       "            background-color:  #6f92f3;\n",
       "        }    #T_e61fc210_752f_11ea_8947_8c85902a085brow5_col0 {\n",
       "            background-color:  #9ebeff;\n",
       "        }    #T_e61fc210_752f_11ea_8947_8c85902a085brow5_col1 {\n",
       "            background-color:  #6c8ff1;\n",
       "        }    #T_e61fc210_752f_11ea_8947_8c85902a085brow5_col2 {\n",
       "            background-color:  #536edd;\n",
       "        }    #T_e61fc210_752f_11ea_8947_8c85902a085brow5_col3 {\n",
       "            background-color:  #4055c8;\n",
       "        }    #T_e61fc210_752f_11ea_8947_8c85902a085brow5_col4 {\n",
       "            background-color:  #7295f4;\n",
       "        }    #T_e61fc210_752f_11ea_8947_8c85902a085brow5_col5 {\n",
       "            background-color:  #b40426;\n",
       "        }    #T_e61fc210_752f_11ea_8947_8c85902a085brow5_col6 {\n",
       "            background-color:  #7396f5;\n",
       "        }    #T_e61fc210_752f_11ea_8947_8c85902a085brow5_col7 {\n",
       "            background-color:  #3b4cc0;\n",
       "        }    #T_e61fc210_752f_11ea_8947_8c85902a085brow5_col8 {\n",
       "            background-color:  #c4d5f3;\n",
       "        }    #T_e61fc210_752f_11ea_8947_8c85902a085brow5_col9 {\n",
       "            background-color:  #98b9ff;\n",
       "        }    #T_e61fc210_752f_11ea_8947_8c85902a085brow6_col0 {\n",
       "            background-color:  #3b4cc0;\n",
       "        }    #T_e61fc210_752f_11ea_8947_8c85902a085brow6_col1 {\n",
       "            background-color:  #3b4cc0;\n",
       "        }    #T_e61fc210_752f_11ea_8947_8c85902a085brow6_col2 {\n",
       "            background-color:  #3c4ec2;\n",
       "        }    #T_e61fc210_752f_11ea_8947_8c85902a085brow6_col3 {\n",
       "            background-color:  #7093f3;\n",
       "        }    #T_e61fc210_752f_11ea_8947_8c85902a085brow6_col4 {\n",
       "            background-color:  #516ddb;\n",
       "        }    #T_e61fc210_752f_11ea_8947_8c85902a085brow6_col5 {\n",
       "            background-color:  #5470de;\n",
       "        }    #T_e61fc210_752f_11ea_8947_8c85902a085brow6_col6 {\n",
       "            background-color:  #b40426;\n",
       "        }    #T_e61fc210_752f_11ea_8947_8c85902a085brow6_col7 {\n",
       "            background-color:  #f6bda2;\n",
       "        }    #T_e61fc210_752f_11ea_8947_8c85902a085brow6_col8 {\n",
       "            background-color:  #4257c9;\n",
       "        }    #T_e61fc210_752f_11ea_8947_8c85902a085brow6_col9 {\n",
       "            background-color:  #5b7ae5;\n",
       "        }    #T_e61fc210_752f_11ea_8947_8c85902a085brow7_col0 {\n",
       "            background-color:  #b9d0f9;\n",
       "        }    #T_e61fc210_752f_11ea_8947_8c85902a085brow7_col1 {\n",
       "            background-color:  #9fbfff;\n",
       "        }    #T_e61fc210_752f_11ea_8947_8c85902a085brow7_col2 {\n",
       "            background-color:  #3b4cc0;\n",
       "        }    #T_e61fc210_752f_11ea_8947_8c85902a085brow7_col3 {\n",
       "            background-color:  #89acfd;\n",
       "        }    #T_e61fc210_752f_11ea_8947_8c85902a085brow7_col4 {\n",
       "            background-color:  #4f69d9;\n",
       "        }    #T_e61fc210_752f_11ea_8947_8c85902a085brow7_col5 {\n",
       "            background-color:  #3b4cc0;\n",
       "        }    #T_e61fc210_752f_11ea_8947_8c85902a085brow7_col6 {\n",
       "            background-color:  #f7b194;\n",
       "        }    #T_e61fc210_752f_11ea_8947_8c85902a085brow7_col7 {\n",
       "            background-color:  #b40426;\n",
       "        }    #T_e61fc210_752f_11ea_8947_8c85902a085brow7_col8 {\n",
       "            background-color:  #445acc;\n",
       "        }    #T_e61fc210_752f_11ea_8947_8c85902a085brow7_col9 {\n",
       "            background-color:  #3f53c6;\n",
       "        }    #T_e61fc210_752f_11ea_8947_8c85902a085brow8_col0 {\n",
       "            background-color:  #c1d4f4;\n",
       "        }    #T_e61fc210_752f_11ea_8947_8c85902a085brow8_col1 {\n",
       "            background-color:  #a2c1ff;\n",
       "        }    #T_e61fc210_752f_11ea_8947_8c85902a085brow8_col2 {\n",
       "            background-color:  #465ecf;\n",
       "        }    #T_e61fc210_752f_11ea_8947_8c85902a085brow8_col3 {\n",
       "            background-color:  #3f53c6;\n",
       "        }    #T_e61fc210_752f_11ea_8947_8c85902a085brow8_col4 {\n",
       "            background-color:  #7a9df8;\n",
       "        }    #T_e61fc210_752f_11ea_8947_8c85902a085brow8_col5 {\n",
       "            background-color:  #dadce0;\n",
       "        }    #T_e61fc210_752f_11ea_8947_8c85902a085brow8_col6 {\n",
       "            background-color:  #8badfd;\n",
       "        }    #T_e61fc210_752f_11ea_8947_8c85902a085brow8_col7 {\n",
       "            background-color:  #6f92f3;\n",
       "        }    #T_e61fc210_752f_11ea_8947_8c85902a085brow8_col8 {\n",
       "            background-color:  #b40426;\n",
       "        }    #T_e61fc210_752f_11ea_8947_8c85902a085brow8_col9 {\n",
       "            background-color:  #93b5fe;\n",
       "        }    #T_e61fc210_752f_11ea_8947_8c85902a085brow9_col0 {\n",
       "            background-color:  #8db0fe;\n",
       "        }    #T_e61fc210_752f_11ea_8947_8c85902a085brow9_col1 {\n",
       "            background-color:  #90b2fe;\n",
       "        }    #T_e61fc210_752f_11ea_8947_8c85902a085brow9_col2 {\n",
       "            background-color:  #3d50c3;\n",
       "        }    #T_e61fc210_752f_11ea_8947_8c85902a085brow9_col3 {\n",
       "            background-color:  #6f92f3;\n",
       "        }    #T_e61fc210_752f_11ea_8947_8c85902a085brow9_col4 {\n",
       "            background-color:  #7da0f9;\n",
       "        }    #T_e61fc210_752f_11ea_8947_8c85902a085brow9_col5 {\n",
       "            background-color:  #c0d4f5;\n",
       "        }    #T_e61fc210_752f_11ea_8947_8c85902a085brow9_col6 {\n",
       "            background-color:  #a9c6fd;\n",
       "        }    #T_e61fc210_752f_11ea_8947_8c85902a085brow9_col7 {\n",
       "            background-color:  #7597f6;\n",
       "        }    #T_e61fc210_752f_11ea_8947_8c85902a085brow9_col8 {\n",
       "            background-color:  #9dbdff;\n",
       "        }    #T_e61fc210_752f_11ea_8947_8c85902a085brow9_col9 {\n",
       "            background-color:  #b40426;\n",
       "        }</style>  \n",
       "<table id=\"T_e61fc210_752f_11ea_8947_8c85902a085b\" > \n",
       "<thead>    <tr> \n",
       "        <th class=\"blank level0\" ></th> \n",
       "        <th class=\"col_heading level0 col0\" >id</th> \n",
       "        <th class=\"col_heading level0 col1\" >host_id</th> \n",
       "        <th class=\"col_heading level0 col2\" >latitude</th> \n",
       "        <th class=\"col_heading level0 col3\" >longitude</th> \n",
       "        <th class=\"col_heading level0 col4\" >price</th> \n",
       "        <th class=\"col_heading level0 col5\" >minimum_nights</th> \n",
       "        <th class=\"col_heading level0 col6\" >number_of_reviews</th> \n",
       "        <th class=\"col_heading level0 col7\" >reviews_per_month</th> \n",
       "        <th class=\"col_heading level0 col8\" >calculated_host_listings_count</th> \n",
       "        <th class=\"col_heading level0 col9\" >availability_365</th> \n",
       "    </tr></thead> \n",
       "<tbody>    <tr> \n",
       "        <th id=\"T_e61fc210_752f_11ea_8947_8c85902a085blevel0_row0\" class=\"row_heading level0 row0\" >id</th> \n",
       "        <td id=\"T_e61fc210_752f_11ea_8947_8c85902a085brow0_col0\" class=\"data row0 col0\" >1</td> \n",
       "        <td id=\"T_e61fc210_752f_11ea_8947_8c85902a085brow0_col1\" class=\"data row0 col1\" >0.587466</td> \n",
       "        <td id=\"T_e61fc210_752f_11ea_8947_8c85902a085brow0_col2\" class=\"data row0 col2\" >0.0053109</td> \n",
       "        <td id=\"T_e61fc210_752f_11ea_8947_8c85902a085brow0_col3\" class=\"data row0 col3\" >0.0542274</td> \n",
       "        <td id=\"T_e61fc210_752f_11ea_8947_8c85902a085brow0_col4\" class=\"data row0 col4\" >0.0193956</td> \n",
       "        <td id=\"T_e61fc210_752f_11ea_8947_8c85902a085brow0_col5\" class=\"data row0 col5\" >-0.0362713</td> \n",
       "        <td id=\"T_e61fc210_752f_11ea_8947_8c85902a085brow0_col6\" class=\"data row0 col6\" >-0.47713</td> \n",
       "        <td id=\"T_e61fc210_752f_11ea_8947_8c85902a085brow0_col7\" class=\"data row0 col7\" >0.0824232</td> \n",
       "        <td id=\"T_e61fc210_752f_11ea_8947_8c85902a085brow0_col8\" class=\"data row0 col8\" >0.11913</td> \n",
       "        <td id=\"T_e61fc210_752f_11ea_8947_8c85902a085brow0_col9\" class=\"data row0 col9\" >-0.10705</td> \n",
       "    </tr>    <tr> \n",
       "        <th id=\"T_e61fc210_752f_11ea_8947_8c85902a085blevel0_row1\" class=\"row_heading level0 row1\" >host_id</th> \n",
       "        <td id=\"T_e61fc210_752f_11ea_8947_8c85902a085brow1_col0\" class=\"data row1 col0\" >0.587466</td> \n",
       "        <td id=\"T_e61fc210_752f_11ea_8947_8c85902a085brow1_col1\" class=\"data row1 col1\" >1</td> \n",
       "        <td id=\"T_e61fc210_752f_11ea_8947_8c85902a085brow1_col2\" class=\"data row1 col2\" >0.0127479</td> \n",
       "        <td id=\"T_e61fc210_752f_11ea_8947_8c85902a085brow1_col3\" class=\"data row1 col3\" >0.100332</td> \n",
       "        <td id=\"T_e61fc210_752f_11ea_8947_8c85902a085brow1_col4\" class=\"data row1 col4\" >0.0122598</td> \n",
       "        <td id=\"T_e61fc210_752f_11ea_8947_8c85902a085brow1_col5\" class=\"data row1 col5\" >-0.0473519</td> \n",
       "        <td id=\"T_e61fc210_752f_11ea_8947_8c85902a085brow1_col6\" class=\"data row1 col6\" >-0.244658</td> \n",
       "        <td id=\"T_e61fc210_752f_11ea_8947_8c85902a085brow1_col7\" class=\"data row1 col7\" >0.13194</td> \n",
       "        <td id=\"T_e61fc210_752f_11ea_8947_8c85902a085brow1_col8\" class=\"data row1 col8\" >0.140821</td> \n",
       "        <td id=\"T_e61fc210_752f_11ea_8947_8c85902a085brow1_col9\" class=\"data row1 col9\" >0.0799553</td> \n",
       "    </tr>    <tr> \n",
       "        <th id=\"T_e61fc210_752f_11ea_8947_8c85902a085blevel0_row2\" class=\"row_heading level0 row2\" >latitude</th> \n",
       "        <td id=\"T_e61fc210_752f_11ea_8947_8c85902a085brow2_col0\" class=\"data row2 col0\" >0.0053109</td> \n",
       "        <td id=\"T_e61fc210_752f_11ea_8947_8c85902a085brow2_col1\" class=\"data row2 col1\" >0.0127479</td> \n",
       "        <td id=\"T_e61fc210_752f_11ea_8947_8c85902a085brow2_col2\" class=\"data row2 col2\" >1</td> \n",
       "        <td id=\"T_e61fc210_752f_11ea_8947_8c85902a085brow2_col3\" class=\"data row2 col3\" >0.0778638</td> \n",
       "        <td id=\"T_e61fc210_752f_11ea_8947_8c85902a085brow2_col4\" class=\"data row2 col4\" >0.0379551</td> \n",
       "        <td id=\"T_e61fc210_752f_11ea_8947_8c85902a085brow2_col5\" class=\"data row2 col5\" >0.0650051</td> \n",
       "        <td id=\"T_e61fc210_752f_11ea_8947_8c85902a085brow2_col6\" class=\"data row2 col6\" >-0.0124146</td> \n",
       "        <td id=\"T_e61fc210_752f_11ea_8947_8c85902a085brow2_col7\" class=\"data row2 col7\" >-0.0166049</td> \n",
       "        <td id=\"T_e61fc210_752f_11ea_8947_8c85902a085brow2_col8\" class=\"data row2 col8\" >0.0258973</td> \n",
       "        <td id=\"T_e61fc210_752f_11ea_8947_8c85902a085brow2_col9\" class=\"data row2 col9\" >-0.00497047</td> \n",
       "    </tr>    <tr> \n",
       "        <th id=\"T_e61fc210_752f_11ea_8947_8c85902a085blevel0_row3\" class=\"row_heading level0 row3\" >longitude</th> \n",
       "        <td id=\"T_e61fc210_752f_11ea_8947_8c85902a085brow3_col0\" class=\"data row3 col0\" >0.0542274</td> \n",
       "        <td id=\"T_e61fc210_752f_11ea_8947_8c85902a085brow3_col1\" class=\"data row3 col1\" >0.100332</td> \n",
       "        <td id=\"T_e61fc210_752f_11ea_8947_8c85902a085brow3_col2\" class=\"data row3 col2\" >0.0778638</td> \n",
       "        <td id=\"T_e61fc210_752f_11ea_8947_8c85902a085brow3_col3\" class=\"data row3 col3\" >1</td> \n",
       "        <td id=\"T_e61fc210_752f_11ea_8947_8c85902a085brow3_col4\" class=\"data row3 col4\" >-0.16505</td> \n",
       "        <td id=\"T_e61fc210_752f_11ea_8947_8c85902a085brow3_col5\" class=\"data row3 col5\" >-0.141614</td> \n",
       "        <td id=\"T_e61fc210_752f_11ea_8947_8c85902a085brow3_col6\" class=\"data row3 col6\" >0.0323752</td> \n",
       "        <td id=\"T_e61fc210_752f_11ea_8947_8c85902a085brow3_col7\" class=\"data row3 col7\" >0.115227</td> \n",
       "        <td id=\"T_e61fc210_752f_11ea_8947_8c85902a085brow3_col8\" class=\"data row3 col8\" >-0.146122</td> \n",
       "        <td id=\"T_e61fc210_752f_11ea_8947_8c85902a085brow3_col9\" class=\"data row3 col9\" >0.030441</td> \n",
       "    </tr>    <tr> \n",
       "        <th id=\"T_e61fc210_752f_11ea_8947_8c85902a085blevel0_row4\" class=\"row_heading level0 row4\" >price</th> \n",
       "        <td id=\"T_e61fc210_752f_11ea_8947_8c85902a085brow4_col0\" class=\"data row4 col0\" >0.0193956</td> \n",
       "        <td id=\"T_e61fc210_752f_11ea_8947_8c85902a085brow4_col1\" class=\"data row4 col1\" >0.0122598</td> \n",
       "        <td id=\"T_e61fc210_752f_11ea_8947_8c85902a085brow4_col2\" class=\"data row4 col2\" >0.0379551</td> \n",
       "        <td id=\"T_e61fc210_752f_11ea_8947_8c85902a085brow4_col3\" class=\"data row4 col3\" >-0.16505</td> \n",
       "        <td id=\"T_e61fc210_752f_11ea_8947_8c85902a085brow4_col4\" class=\"data row4 col4\" >1</td> \n",
       "        <td id=\"T_e61fc210_752f_11ea_8947_8c85902a085brow4_col5\" class=\"data row4 col5\" >0.0390038</td> \n",
       "        <td id=\"T_e61fc210_752f_11ea_8947_8c85902a085brow4_col6\" class=\"data row4 col6\" >-0.0741527</td> \n",
       "        <td id=\"T_e61fc210_752f_11ea_8947_8c85902a085brow4_col7\" class=\"data row4 col7\" >-0.0832918</td> \n",
       "        <td id=\"T_e61fc210_752f_11ea_8947_8c85902a085brow4_col8\" class=\"data row4 col8\" >0.0643329</td> \n",
       "        <td id=\"T_e61fc210_752f_11ea_8947_8c85902a085brow4_col9\" class=\"data row4 col9\" >0.0759084</td> \n",
       "    </tr>    <tr> \n",
       "        <th id=\"T_e61fc210_752f_11ea_8947_8c85902a085blevel0_row5\" class=\"row_heading level0 row5\" >minimum_nights</th> \n",
       "        <td id=\"T_e61fc210_752f_11ea_8947_8c85902a085brow5_col0\" class=\"data row5 col0\" >-0.0362713</td> \n",
       "        <td id=\"T_e61fc210_752f_11ea_8947_8c85902a085brow5_col1\" class=\"data row5 col1\" >-0.0473519</td> \n",
       "        <td id=\"T_e61fc210_752f_11ea_8947_8c85902a085brow5_col2\" class=\"data row5 col2\" >0.0650051</td> \n",
       "        <td id=\"T_e61fc210_752f_11ea_8947_8c85902a085brow5_col3\" class=\"data row5 col3\" >-0.141614</td> \n",
       "        <td id=\"T_e61fc210_752f_11ea_8947_8c85902a085brow5_col4\" class=\"data row5 col4\" >0.0390038</td> \n",
       "        <td id=\"T_e61fc210_752f_11ea_8947_8c85902a085brow5_col5\" class=\"data row5 col5\" >1</td> \n",
       "        <td id=\"T_e61fc210_752f_11ea_8947_8c85902a085brow5_col6\" class=\"data row5 col6\" >-0.214519</td> \n",
       "        <td id=\"T_e61fc210_752f_11ea_8947_8c85902a085brow5_col7\" class=\"data row5 col7\" >-0.326905</td> \n",
       "        <td id=\"T_e61fc210_752f_11ea_8947_8c85902a085brow5_col8\" class=\"data row5 col8\" >0.324682</td> \n",
       "        <td id=\"T_e61fc210_752f_11ea_8947_8c85902a085brow5_col9\" class=\"data row5 col9\" >0.20572</td> \n",
       "    </tr>    <tr> \n",
       "        <th id=\"T_e61fc210_752f_11ea_8947_8c85902a085blevel0_row6\" class=\"row_heading level0 row6\" >number_of_reviews</th> \n",
       "        <td id=\"T_e61fc210_752f_11ea_8947_8c85902a085brow6_col0\" class=\"data row6 col0\" >-0.47713</td> \n",
       "        <td id=\"T_e61fc210_752f_11ea_8947_8c85902a085brow6_col1\" class=\"data row6 col1\" >-0.244658</td> \n",
       "        <td id=\"T_e61fc210_752f_11ea_8947_8c85902a085brow6_col2\" class=\"data row6 col2\" >-0.0124146</td> \n",
       "        <td id=\"T_e61fc210_752f_11ea_8947_8c85902a085brow6_col3\" class=\"data row6 col3\" >0.0323752</td> \n",
       "        <td id=\"T_e61fc210_752f_11ea_8947_8c85902a085brow6_col4\" class=\"data row6 col4\" >-0.0741527</td> \n",
       "        <td id=\"T_e61fc210_752f_11ea_8947_8c85902a085brow6_col5\" class=\"data row6 col5\" >-0.214519</td> \n",
       "        <td id=\"T_e61fc210_752f_11ea_8947_8c85902a085brow6_col6\" class=\"data row6 col6\" >1</td> \n",
       "        <td id=\"T_e61fc210_752f_11ea_8947_8c85902a085brow6_col7\" class=\"data row6 col7\" >0.536811</td> \n",
       "        <td id=\"T_e61fc210_752f_11ea_8947_8c85902a085brow6_col8\" class=\"data row6 col8\" >-0.11604</td> \n",
       "        <td id=\"T_e61fc210_752f_11ea_8947_8c85902a085brow6_col9\" class=\"data row6 col9\" >0.0129745</td> \n",
       "    </tr>    <tr> \n",
       "        <th id=\"T_e61fc210_752f_11ea_8947_8c85902a085blevel0_row7\" class=\"row_heading level0 row7\" >reviews_per_month</th> \n",
       "        <td id=\"T_e61fc210_752f_11ea_8947_8c85902a085brow7_col0\" class=\"data row7 col0\" >0.0824232</td> \n",
       "        <td id=\"T_e61fc210_752f_11ea_8947_8c85902a085brow7_col1\" class=\"data row7 col1\" >0.13194</td> \n",
       "        <td id=\"T_e61fc210_752f_11ea_8947_8c85902a085brow7_col2\" class=\"data row7 col2\" >-0.0166049</td> \n",
       "        <td id=\"T_e61fc210_752f_11ea_8947_8c85902a085brow7_col3\" class=\"data row7 col3\" >0.115227</td> \n",
       "        <td id=\"T_e61fc210_752f_11ea_8947_8c85902a085brow7_col4\" class=\"data row7 col4\" >-0.0832918</td> \n",
       "        <td id=\"T_e61fc210_752f_11ea_8947_8c85902a085brow7_col5\" class=\"data row7 col5\" >-0.326905</td> \n",
       "        <td id=\"T_e61fc210_752f_11ea_8947_8c85902a085brow7_col6\" class=\"data row7 col6\" >0.536811</td> \n",
       "        <td id=\"T_e61fc210_752f_11ea_8947_8c85902a085brow7_col7\" class=\"data row7 col7\" >1</td> \n",
       "        <td id=\"T_e61fc210_752f_11ea_8947_8c85902a085brow7_col8\" class=\"data row7 col8\" >-0.10635</td> \n",
       "        <td id=\"T_e61fc210_752f_11ea_8947_8c85902a085brow7_col9\" class=\"data row7 col9\" >-0.0854784</td> \n",
       "    </tr>    <tr> \n",
       "        <th id=\"T_e61fc210_752f_11ea_8947_8c85902a085blevel0_row8\" class=\"row_heading level0 row8\" >calculated_host_listings_count</th> \n",
       "        <td id=\"T_e61fc210_752f_11ea_8947_8c85902a085brow8_col0\" class=\"data row8 col0\" >0.11913</td> \n",
       "        <td id=\"T_e61fc210_752f_11ea_8947_8c85902a085brow8_col1\" class=\"data row8 col1\" >0.140821</td> \n",
       "        <td id=\"T_e61fc210_752f_11ea_8947_8c85902a085brow8_col2\" class=\"data row8 col2\" >0.0258973</td> \n",
       "        <td id=\"T_e61fc210_752f_11ea_8947_8c85902a085brow8_col3\" class=\"data row8 col3\" >-0.146122</td> \n",
       "        <td id=\"T_e61fc210_752f_11ea_8947_8c85902a085brow8_col4\" class=\"data row8 col4\" >0.0643329</td> \n",
       "        <td id=\"T_e61fc210_752f_11ea_8947_8c85902a085brow8_col5\" class=\"data row8 col5\" >0.324682</td> \n",
       "        <td id=\"T_e61fc210_752f_11ea_8947_8c85902a085brow8_col6\" class=\"data row8 col6\" >-0.11604</td> \n",
       "        <td id=\"T_e61fc210_752f_11ea_8947_8c85902a085brow8_col7\" class=\"data row8 col7\" >-0.10635</td> \n",
       "        <td id=\"T_e61fc210_752f_11ea_8947_8c85902a085brow8_col8\" class=\"data row8 col8\" >1</td> \n",
       "        <td id=\"T_e61fc210_752f_11ea_8947_8c85902a085brow8_col9\" class=\"data row8 col9\" >0.189847</td> \n",
       "    </tr>    <tr> \n",
       "        <th id=\"T_e61fc210_752f_11ea_8947_8c85902a085blevel0_row9\" class=\"row_heading level0 row9\" >availability_365</th> \n",
       "        <td id=\"T_e61fc210_752f_11ea_8947_8c85902a085brow9_col0\" class=\"data row9 col0\" >-0.10705</td> \n",
       "        <td id=\"T_e61fc210_752f_11ea_8947_8c85902a085brow9_col1\" class=\"data row9 col1\" >0.0799553</td> \n",
       "        <td id=\"T_e61fc210_752f_11ea_8947_8c85902a085brow9_col2\" class=\"data row9 col2\" >-0.00497047</td> \n",
       "        <td id=\"T_e61fc210_752f_11ea_8947_8c85902a085brow9_col3\" class=\"data row9 col3\" >0.030441</td> \n",
       "        <td id=\"T_e61fc210_752f_11ea_8947_8c85902a085brow9_col4\" class=\"data row9 col4\" >0.0759084</td> \n",
       "        <td id=\"T_e61fc210_752f_11ea_8947_8c85902a085brow9_col5\" class=\"data row9 col5\" >0.20572</td> \n",
       "        <td id=\"T_e61fc210_752f_11ea_8947_8c85902a085brow9_col6\" class=\"data row9 col6\" >0.0129745</td> \n",
       "        <td id=\"T_e61fc210_752f_11ea_8947_8c85902a085brow9_col7\" class=\"data row9 col7\" >-0.0854784</td> \n",
       "        <td id=\"T_e61fc210_752f_11ea_8947_8c85902a085brow9_col8\" class=\"data row9 col8\" >0.189847</td> \n",
       "        <td id=\"T_e61fc210_752f_11ea_8947_8c85902a085brow9_col9\" class=\"data row9 col9\" >1</td> \n",
       "    </tr></tbody> \n",
       "</table> "
      ],
      "text/plain": [
       "<pandas.io.formats.style.Styler at 0x1a1b168ba8>"
      ]
     },
     "execution_count": 34,
     "metadata": {},
     "output_type": "execute_result"
    }
   ],
   "source": [
    "df_clean.corr().style.background_gradient(cmap='coolwarm')"
   ]
  },
  {
   "cell_type": "markdown",
   "metadata": {},
   "source": [
    "## Finding Important Features"
   ]
  },
  {
   "cell_type": "code",
   "execution_count": 35,
   "metadata": {},
   "outputs": [
    {
     "name": "stdout",
     "output_type": "stream",
     "text": [
      "Checking whether there is an H2O instance running at http://localhost:54321 ..... not found.\n",
      "Attempting to start a local H2O server...\n",
      "  Java Version: java version \"1.8.0_181\"; Java(TM) SE Runtime Environment (build 1.8.0_181-b13); Java HotSpot(TM) 64-Bit Server VM (build 25.181-b13, mixed mode)\n",
      "  Starting server from /anaconda3/lib/python3.6/site-packages/h2o/backend/bin/h2o.jar\n",
      "  Ice root: /var/folders/hh/rzp61s6j4dj9vxm2kn38b16h0000gn/T/tmpj2hrmoxm\n",
      "  JVM stdout: /var/folders/hh/rzp61s6j4dj9vxm2kn38b16h0000gn/T/tmpj2hrmoxm/h2o_kaylaxie_started_from_python.out\n",
      "  JVM stderr: /var/folders/hh/rzp61s6j4dj9vxm2kn38b16h0000gn/T/tmpj2hrmoxm/h2o_kaylaxie_started_from_python.err\n",
      "  Server is running at http://127.0.0.1:54321\n",
      "Connecting to H2O server at http://127.0.0.1:54321 ... successful.\n"
     ]
    },
    {
     "data": {
      "text/html": [
       "<div style=\"overflow:auto\"><table style=\"width:50%\"><tr><td>H2O cluster uptime:</td>\n",
       "<td>02 secs</td></tr>\n",
       "<tr><td>H2O cluster timezone:</td>\n",
       "<td>America/Los_Angeles</td></tr>\n",
       "<tr><td>H2O data parsing timezone:</td>\n",
       "<td>UTC</td></tr>\n",
       "<tr><td>H2O cluster version:</td>\n",
       "<td>3.28.1.2</td></tr>\n",
       "<tr><td>H2O cluster version age:</td>\n",
       "<td>16 days </td></tr>\n",
       "<tr><td>H2O cluster name:</td>\n",
       "<td>H2O_from_python_kaylaxie_qnbgss</td></tr>\n",
       "<tr><td>H2O cluster total nodes:</td>\n",
       "<td>1</td></tr>\n",
       "<tr><td>H2O cluster free memory:</td>\n",
       "<td>1.778 Gb</td></tr>\n",
       "<tr><td>H2O cluster total cores:</td>\n",
       "<td>4</td></tr>\n",
       "<tr><td>H2O cluster allowed cores:</td>\n",
       "<td>4</td></tr>\n",
       "<tr><td>H2O cluster status:</td>\n",
       "<td>accepting new members, healthy</td></tr>\n",
       "<tr><td>H2O connection url:</td>\n",
       "<td>http://127.0.0.1:54321</td></tr>\n",
       "<tr><td>H2O connection proxy:</td>\n",
       "<td>{'http': None, 'https': None}</td></tr>\n",
       "<tr><td>H2O internal security:</td>\n",
       "<td>False</td></tr>\n",
       "<tr><td>H2O API Extensions:</td>\n",
       "<td>Amazon S3, XGBoost, Algos, AutoML, Core V3, TargetEncoder, Core V4</td></tr>\n",
       "<tr><td>Python version:</td>\n",
       "<td>3.6.7 final</td></tr></table></div>"
      ],
      "text/plain": [
       "--------------------------  ------------------------------------------------------------------\n",
       "H2O cluster uptime:         02 secs\n",
       "H2O cluster timezone:       America/Los_Angeles\n",
       "H2O data parsing timezone:  UTC\n",
       "H2O cluster version:        3.28.1.2\n",
       "H2O cluster version age:    16 days\n",
       "H2O cluster name:           H2O_from_python_kaylaxie_qnbgss\n",
       "H2O cluster total nodes:    1\n",
       "H2O cluster free memory:    1.778 Gb\n",
       "H2O cluster total cores:    4\n",
       "H2O cluster allowed cores:  4\n",
       "H2O cluster status:         accepting new members, healthy\n",
       "H2O connection url:         http://127.0.0.1:54321\n",
       "H2O connection proxy:       {'http': None, 'https': None}\n",
       "H2O internal security:      False\n",
       "H2O API Extensions:         Amazon S3, XGBoost, Algos, AutoML, Core V3, TargetEncoder, Core V4\n",
       "Python version:             3.6.7 final\n",
       "--------------------------  ------------------------------------------------------------------"
      ]
     },
     "metadata": {},
     "output_type": "display_data"
    }
   ],
   "source": [
    "import h2o\n",
    "h2o.init()\n",
    "h2o.remove_all()"
   ]
  },
  {
   "cell_type": "code",
   "execution_count": 36,
   "metadata": {},
   "outputs": [
    {
     "name": "stdout",
     "output_type": "stream",
     "text": [
      "Parse progress: |█████████████████████████████████████████████████████████| 100%\n"
     ]
    }
   ],
   "source": [
    "# Transform to H2O Frame\n",
    "h2o_df = h2o.H2OFrame(df_clean)"
   ]
  },
  {
   "cell_type": "code",
   "execution_count": 37,
   "metadata": {},
   "outputs": [
    {
     "data": {
      "text/html": [
       "<table>\n",
       "<thead>\n",
       "<tr><th>       </th><th>id               </th><th>name                                          </th><th>host_id          </th><th>host_name  </th><th>neighbourhood_group  </th><th>neighbourhood  </th><th>latitude           </th><th>longitude          </th><th>room_type      </th><th>price             </th><th>minimum_nights   </th><th>number_of_reviews  </th><th>last_review        </th><th>reviews_per_month  </th><th>calculated_host_listings_count  </th><th>availability_365  </th></tr>\n",
       "</thead>\n",
       "<tbody>\n",
       "<tr><td>type   </td><td>int              </td><td>string                                        </td><td>int              </td><td>enum       </td><td>enum                 </td><td>enum           </td><td>real               </td><td>real               </td><td>enum           </td><td>int               </td><td>int              </td><td>int                </td><td>time               </td><td>real               </td><td>int                             </td><td>int               </td></tr>\n",
       "<tr><td>mins   </td><td>2539.0           </td><td>NaN                                           </td><td>2571.0           </td><td>           </td><td>                     </td><td>               </td><td>40.49979           </td><td>-74.24441999999999 </td><td>               </td><td>0.0               </td><td>1.0              </td><td>0.0                </td><td>1303689600000.0    </td><td>0.0                </td><td>1.0                             </td><td>1.0               </td></tr>\n",
       "<tr><td>mean   </td><td>21049249.58491428</td><td>NaN                                           </td><td>81795125.38743684</td><td>           </td><td>                     </td><td>               </td><td>40.72829150341956  </td><td>-73.94855885178657 </td><td>               </td><td>160.77142211898325</td><td>6.704832881662129</td><td>32.112724222480296 </td><td>1553222150879.767  </td><td>1.5247628726287334 </td><td>10.344399277326145              </td><td>175.2031229836106 </td></tr>\n",
       "<tr><td>maxs   </td><td>36487245.0       </td><td>NaN                                           </td><td>274321313.0      </td><td>           </td><td>                     </td><td>               </td><td>40.913059999999994 </td><td>-73.71299          </td><td>               </td><td>10000.0           </td><td>47.0             </td><td>629.0              </td><td>1562544000000.0    </td><td>58.5               </td><td>327.0                           </td><td>365.0             </td></tr>\n",
       "<tr><td>sigma  </td><td>11472651.37638066</td><td>NaN                                           </td><td>86836963.56880853</td><td>           </td><td>                     </td><td>               </td><td>0.05656279428570825</td><td>0.05154628348333775</td><td>               </td><td>241.37954372171083</td><td>9.662613929677777</td><td>51.78602411506696  </td><td>20789194974.012856 </td><td>1.7853060218843548 </td><td>40.75680197426399               </td><td>126.12603553357202</td></tr>\n",
       "<tr><td>zeros  </td><td>0                </td><td>0                                             </td><td>0                </td><td>           </td><td>                     </td><td>               </td><td>0                  </td><td>0                  </td><td>               </td><td>8                 </td><td>0                </td><td>5023               </td><td>0                  </td><td>5023               </td><td>0                               </td><td>0                 </td></tr>\n",
       "<tr><td>missing</td><td>0                </td><td>0                                             </td><td>0                </td><td>0          </td><td>0                    </td><td>0              </td><td>0                  </td><td>0                  </td><td>0              </td><td>0                 </td><td>0                </td><td>0                  </td><td>5023               </td><td>0                  </td><td>0                               </td><td>0                 </td></tr>\n",
       "<tr><td>0      </td><td>2539.0           </td><td>Clean &amp; quiet apt home by the park            </td><td>2787.0           </td><td>John       </td><td>Brooklyn             </td><td>Kensington     </td><td>40.647490000000005 </td><td>-73.97237          </td><td>Private room   </td><td>149.0             </td><td>1.0              </td><td>9.0                </td><td>2018-10-19 00:00:00</td><td>0.21               </td><td>6.0                             </td><td>365.0             </td></tr>\n",
       "<tr><td>1      </td><td>2595.0           </td><td>Skylit Midtown Castle                         </td><td>2845.0           </td><td>Jennifer   </td><td>Manhattan            </td><td>Midtown        </td><td>40.75362           </td><td>-73.98376999999999 </td><td>Entire home/apt</td><td>225.0             </td><td>1.0              </td><td>45.0               </td><td>2019-05-21 00:00:00</td><td>0.38               </td><td>2.0                             </td><td>355.0             </td></tr>\n",
       "<tr><td>2      </td><td>3647.0           </td><td>THE VILLAGE OF HARLEM....NEW YORK !           </td><td>4632.0           </td><td>Elisabeth  </td><td>Manhattan            </td><td>Harlem         </td><td>40.80902           </td><td>-73.9419           </td><td>Private room   </td><td>150.0             </td><td>3.0              </td><td>0.0                </td><td>                   </td><td>0.0                </td><td>1.0                             </td><td>365.0             </td></tr>\n",
       "<tr><td>3      </td><td>3831.0           </td><td>Cozy Entire Floor of Brownstone               </td><td>4869.0           </td><td>LisaRoxanne</td><td>Brooklyn             </td><td>Clinton Hill   </td><td>40.68514           </td><td>-73.95976          </td><td>Entire home/apt</td><td>89.0              </td><td>1.0              </td><td>270.0              </td><td>2019-07-05 00:00:00</td><td>4.64               </td><td>1.0                             </td><td>194.0             </td></tr>\n",
       "<tr><td>4      </td><td>5099.0           </td><td>Large Cozy 1 BR Apartment In Midtown East     </td><td>7322.0           </td><td>Chris      </td><td>Manhattan            </td><td>Murray Hill    </td><td>40.74767           </td><td>-73.975            </td><td>Entire home/apt</td><td>200.0             </td><td>3.0              </td><td>74.0               </td><td>2019-06-22 00:00:00</td><td>0.59               </td><td>1.0                             </td><td>129.0             </td></tr>\n",
       "<tr><td>5      </td><td>5178.0           </td><td>Large Furnished Room Near B&#x27;way               </td><td>8967.0           </td><td>Shunichi   </td><td>Manhattan            </td><td>Hell&#x27;s Kitchen </td><td>40.76489           </td><td>-73.98493          </td><td>Private room   </td><td>79.0              </td><td>2.0              </td><td>430.0              </td><td>2019-06-24 00:00:00</td><td>3.47               </td><td>1.0                             </td><td>220.0             </td></tr>\n",
       "<tr><td>6      </td><td>5238.0           </td><td>Cute &amp; Cozy Lower East Side 1 bdrm            </td><td>7549.0           </td><td>Ben        </td><td>Manhattan            </td><td>Chinatown      </td><td>40.713440000000006 </td><td>-73.99037          </td><td>Entire home/apt</td><td>150.0             </td><td>1.0              </td><td>160.0              </td><td>2019-06-09 00:00:00</td><td>1.33               </td><td>4.0                             </td><td>188.0             </td></tr>\n",
       "<tr><td>7      </td><td>5295.0           </td><td>Beautiful 1br on Upper West Side              </td><td>7702.0           </td><td>Lena       </td><td>Manhattan            </td><td>Upper West Side</td><td>40.80316           </td><td>-73.96545          </td><td>Entire home/apt</td><td>135.0             </td><td>5.0              </td><td>53.0               </td><td>2019-06-22 00:00:00</td><td>0.43               </td><td>1.0                             </td><td>6.0               </td></tr>\n",
       "<tr><td>8      </td><td>5441.0           </td><td>Central Manhattan/near Broadway               </td><td>7989.0           </td><td>Kate       </td><td>Manhattan            </td><td>Hell&#x27;s Kitchen </td><td>40.76076           </td><td>-73.98867          </td><td>Private room   </td><td>85.0              </td><td>2.0              </td><td>188.0              </td><td>2019-06-23 00:00:00</td><td>1.5                </td><td>1.0                             </td><td>39.0              </td></tr>\n",
       "<tr><td>9      </td><td>5803.0           </td><td>Lovely Room 1, Garden, Best Area, Legal rental</td><td>9744.0           </td><td>Laurie     </td><td>Brooklyn             </td><td>South Slope    </td><td>40.66829           </td><td>-73.98779          </td><td>Private room   </td><td>89.0              </td><td>4.0              </td><td>167.0              </td><td>2019-06-24 00:00:00</td><td>1.34               </td><td>3.0                             </td><td>314.0             </td></tr>\n",
       "</tbody>\n",
       "</table>"
      ]
     },
     "metadata": {},
     "output_type": "display_data"
    }
   ],
   "source": [
    "h2o_df.summary()"
   ]
  },
  {
   "cell_type": "code",
   "execution_count": 38,
   "metadata": {},
   "outputs": [],
   "source": [
    "# Split into 75% training and 25% test dataset\n",
    "strat_split = h2o_df['price'].stratified_split(test_frac=0.25, seed=42)\n",
    "\n",
    "train = h2o_df[strat_split == 'train']\n",
    "test = h2o_df[strat_split == 'test']\n",
    "\n",
    "feature = ['host_name', 'neighbourhood_group', 'neighbourhood', 'room_type', \n",
    "           'minimum_nights','number_of_reviews','last_review',\n",
    "          'reviews_per_month','calculated_host_listings_count','availability_365'\n",
    "          ]\n",
    "target = 'price'"
   ]
  },
  {
   "cell_type": "code",
   "execution_count": 39,
   "metadata": {},
   "outputs": [
    {
     "name": "stdout",
     "output_type": "stream",
     "text": [
      "drf Model Build progress: |███████████████████████████████████████████████| 100%\n"
     ]
    }
   ],
   "source": [
    "# Build random forest model\n",
    "from h2o.estimators.random_forest import H2ORandomForestEstimator\n",
    "model = H2ORandomForestEstimator(balance_classes=True, ntrees=100, max_depth=20, \n",
    "                                 mtries=-1, seed=42, score_each_iteration=True)\n",
    "model.train(x=feature, y=target, training_frame=train)"
   ]
  },
  {
   "cell_type": "code",
   "execution_count": 40,
   "metadata": {},
   "outputs": [
    {
     "data": {
      "image/png": "[encoded data removed]",
      "text/plain": [
       "<Figure size 1008x720 with 1 Axes>"
      ]
     },
     "metadata": {},
     "output_type": "display_data"
    }
   ],
   "source": [
    "model.varimp_plot()"
   ]
  },
  {
   "cell_type": "code",
   "execution_count": 41,
   "metadata": {},
   "outputs": [
    {
     "name": "stdout",
     "output_type": "stream",
     "text": [
      "H2O session _sid_bf4a closed.\n"
     ]
    }
   ],
   "source": [
    "# Shutdown h2o instance\n",
    "h2o.cluster().shutdown()"
   ]
  }
 ],
 "metadata": {
  "kernelspec": {
   "display_name": "Python 3",
   "language": "python",
   "name": "python3"
  },
  "language_info": {
   "codemirror_mode": {
    "name": "ipython",
    "version": 3
   },
   "file_extension": ".py",
   "mimetype": "text/x-python",
   "name": "python",
   "nbconvert_exporter": "python",
   "pygments_lexer": "ipython3",
   "version": "3.6.7"
  }
 },
 "nbformat": 4,
 "nbformat_minor": 2
}
